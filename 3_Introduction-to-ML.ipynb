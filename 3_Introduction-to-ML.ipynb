{
 "cells": [
  {
   "cell_type": "markdown",
   "id": "6573f1a8",
   "metadata": {},
   "source": [
    "#### **Step 1: Import Libraries**"
   ]
  },
  {
   "cell_type": "code",
   "execution_count": null,
   "id": "220e9e79",
   "metadata": {},
   "outputs": [],
   "source": [
    "import pandas as pd\n",
    "import sklearn"
   ]
  },
  {
   "cell_type": "markdown",
   "id": "835490c1",
   "metadata": {},
   "source": [
    "#### **Step 2: Load the Data**"
   ]
  },
  {
   "cell_type": "code",
   "execution_count": null,
   "id": "be744fed",
   "metadata": {},
   "outputs": [],
   "source": [
    "# House Prices Dataset from Kaggle\n",
    "iowa_file_path = \"data/Housing-Prices-Competition-for Kaggle-Learn-Users/train.csv\" \n",
    "home_data = pd.read_csv(iowa_file_path)"
   ]
  },
  {
   "cell_type": "markdown",
   "id": "c4fb50c8",
   "metadata": {},
   "source": [
    "#### **Step 3: Review the Data**"
   ]
  },
  {
   "cell_type": "code",
   "execution_count": 35,
   "id": "2ecd068b",
   "metadata": {},
   "outputs": [
    {
     "data": {
      "text/html": [
       "<div>\n",
       "<style scoped>\n",
       "    .dataframe tbody tr th:only-of-type {\n",
       "        vertical-align: middle;\n",
       "    }\n",
       "\n",
       "    .dataframe tbody tr th {\n",
       "        vertical-align: top;\n",
       "    }\n",
       "\n",
       "    .dataframe thead th {\n",
       "        text-align: right;\n",
       "    }\n",
       "</style>\n",
       "<table border=\"1\" class=\"dataframe\">\n",
       "  <thead>\n",
       "    <tr style=\"text-align: right;\">\n",
       "      <th></th>\n",
       "      <th>Id</th>\n",
       "      <th>MSSubClass</th>\n",
       "      <th>MSZoning</th>\n",
       "      <th>LotFrontage</th>\n",
       "      <th>LotArea</th>\n",
       "      <th>Street</th>\n",
       "      <th>Alley</th>\n",
       "      <th>LotShape</th>\n",
       "      <th>LandContour</th>\n",
       "      <th>Utilities</th>\n",
       "      <th>...</th>\n",
       "      <th>PoolArea</th>\n",
       "      <th>PoolQC</th>\n",
       "      <th>Fence</th>\n",
       "      <th>MiscFeature</th>\n",
       "      <th>MiscVal</th>\n",
       "      <th>MoSold</th>\n",
       "      <th>YrSold</th>\n",
       "      <th>SaleType</th>\n",
       "      <th>SaleCondition</th>\n",
       "      <th>SalePrice</th>\n",
       "    </tr>\n",
       "  </thead>\n",
       "  <tbody>\n",
       "    <tr>\n",
       "      <th>0</th>\n",
       "      <td>1</td>\n",
       "      <td>60</td>\n",
       "      <td>RL</td>\n",
       "      <td>65.0</td>\n",
       "      <td>8450</td>\n",
       "      <td>Pave</td>\n",
       "      <td>NaN</td>\n",
       "      <td>Reg</td>\n",
       "      <td>Lvl</td>\n",
       "      <td>AllPub</td>\n",
       "      <td>...</td>\n",
       "      <td>0</td>\n",
       "      <td>NaN</td>\n",
       "      <td>NaN</td>\n",
       "      <td>NaN</td>\n",
       "      <td>0</td>\n",
       "      <td>2</td>\n",
       "      <td>2008</td>\n",
       "      <td>WD</td>\n",
       "      <td>Normal</td>\n",
       "      <td>208500</td>\n",
       "    </tr>\n",
       "    <tr>\n",
       "      <th>1</th>\n",
       "      <td>2</td>\n",
       "      <td>20</td>\n",
       "      <td>RL</td>\n",
       "      <td>80.0</td>\n",
       "      <td>9600</td>\n",
       "      <td>Pave</td>\n",
       "      <td>NaN</td>\n",
       "      <td>Reg</td>\n",
       "      <td>Lvl</td>\n",
       "      <td>AllPub</td>\n",
       "      <td>...</td>\n",
       "      <td>0</td>\n",
       "      <td>NaN</td>\n",
       "      <td>NaN</td>\n",
       "      <td>NaN</td>\n",
       "      <td>0</td>\n",
       "      <td>5</td>\n",
       "      <td>2007</td>\n",
       "      <td>WD</td>\n",
       "      <td>Normal</td>\n",
       "      <td>181500</td>\n",
       "    </tr>\n",
       "    <tr>\n",
       "      <th>2</th>\n",
       "      <td>3</td>\n",
       "      <td>60</td>\n",
       "      <td>RL</td>\n",
       "      <td>68.0</td>\n",
       "      <td>11250</td>\n",
       "      <td>Pave</td>\n",
       "      <td>NaN</td>\n",
       "      <td>IR1</td>\n",
       "      <td>Lvl</td>\n",
       "      <td>AllPub</td>\n",
       "      <td>...</td>\n",
       "      <td>0</td>\n",
       "      <td>NaN</td>\n",
       "      <td>NaN</td>\n",
       "      <td>NaN</td>\n",
       "      <td>0</td>\n",
       "      <td>9</td>\n",
       "      <td>2008</td>\n",
       "      <td>WD</td>\n",
       "      <td>Normal</td>\n",
       "      <td>223500</td>\n",
       "    </tr>\n",
       "    <tr>\n",
       "      <th>3</th>\n",
       "      <td>4</td>\n",
       "      <td>70</td>\n",
       "      <td>RL</td>\n",
       "      <td>60.0</td>\n",
       "      <td>9550</td>\n",
       "      <td>Pave</td>\n",
       "      <td>NaN</td>\n",
       "      <td>IR1</td>\n",
       "      <td>Lvl</td>\n",
       "      <td>AllPub</td>\n",
       "      <td>...</td>\n",
       "      <td>0</td>\n",
       "      <td>NaN</td>\n",
       "      <td>NaN</td>\n",
       "      <td>NaN</td>\n",
       "      <td>0</td>\n",
       "      <td>2</td>\n",
       "      <td>2006</td>\n",
       "      <td>WD</td>\n",
       "      <td>Abnorml</td>\n",
       "      <td>140000</td>\n",
       "    </tr>\n",
       "    <tr>\n",
       "      <th>4</th>\n",
       "      <td>5</td>\n",
       "      <td>60</td>\n",
       "      <td>RL</td>\n",
       "      <td>84.0</td>\n",
       "      <td>14260</td>\n",
       "      <td>Pave</td>\n",
       "      <td>NaN</td>\n",
       "      <td>IR1</td>\n",
       "      <td>Lvl</td>\n",
       "      <td>AllPub</td>\n",
       "      <td>...</td>\n",
       "      <td>0</td>\n",
       "      <td>NaN</td>\n",
       "      <td>NaN</td>\n",
       "      <td>NaN</td>\n",
       "      <td>0</td>\n",
       "      <td>12</td>\n",
       "      <td>2008</td>\n",
       "      <td>WD</td>\n",
       "      <td>Normal</td>\n",
       "      <td>250000</td>\n",
       "    </tr>\n",
       "  </tbody>\n",
       "</table>\n",
       "<p>5 rows × 81 columns</p>\n",
       "</div>"
      ],
      "text/plain": [
       "   Id  MSSubClass MSZoning  LotFrontage  LotArea Street Alley LotShape  \\\n",
       "0   1          60       RL         65.0     8450   Pave   NaN      Reg   \n",
       "1   2          20       RL         80.0     9600   Pave   NaN      Reg   \n",
       "2   3          60       RL         68.0    11250   Pave   NaN      IR1   \n",
       "3   4          70       RL         60.0     9550   Pave   NaN      IR1   \n",
       "4   5          60       RL         84.0    14260   Pave   NaN      IR1   \n",
       "\n",
       "  LandContour Utilities  ... PoolArea PoolQC Fence MiscFeature MiscVal MoSold  \\\n",
       "0         Lvl    AllPub  ...        0    NaN   NaN         NaN       0      2   \n",
       "1         Lvl    AllPub  ...        0    NaN   NaN         NaN       0      5   \n",
       "2         Lvl    AllPub  ...        0    NaN   NaN         NaN       0      9   \n",
       "3         Lvl    AllPub  ...        0    NaN   NaN         NaN       0      2   \n",
       "4         Lvl    AllPub  ...        0    NaN   NaN         NaN       0     12   \n",
       "\n",
       "  YrSold  SaleType  SaleCondition  SalePrice  \n",
       "0   2008        WD         Normal     208500  \n",
       "1   2007        WD         Normal     181500  \n",
       "2   2008        WD         Normal     223500  \n",
       "3   2006        WD        Abnorml     140000  \n",
       "4   2008        WD         Normal     250000  \n",
       "\n",
       "[5 rows x 81 columns]"
      ]
     },
     "execution_count": 35,
     "metadata": {},
     "output_type": "execute_result"
    }
   ],
   "source": [
    "# Review data\n",
    "home_data.head()"
   ]
  },
  {
   "cell_type": "markdown",
   "id": "df8d7aa4",
   "metadata": {},
   "source": [
    "#### **Step 4: Basic Data Cleaning**"
   ]
  },
  {
   "cell_type": "code",
   "execution_count": 119,
   "id": "de84ac33",
   "metadata": {},
   "outputs": [],
   "source": [
    "# Remove column with missing data (NaN)\n",
    "home_data = home_data.dropna(axis=1)   # axis = [row, col]"
   ]
  },
  {
   "cell_type": "markdown",
   "id": "32ba6806",
   "metadata": {},
   "source": [
    "#### **Step 5: Specify Feature Matrix (X) and Prediction Target (y)**"
   ]
  },
  {
   "cell_type": "code",
   "execution_count": 71,
   "id": "ab72dfc4",
   "metadata": {},
   "outputs": [],
   "source": [
    "# or y = home_data['SalePrice']\n",
    "y = home_data.SalePrice\n",
    "\n",
    "features = ['LotArea', 'YearBuilt', '1stFlrSF', '2ndFlrSF', 'FullBath', 'BedroomAbvGr', 'TotRmsAbvGrd'] \n",
    "X = home_data[features]"
   ]
  },
  {
   "cell_type": "markdown",
   "id": "5256a59c",
   "metadata": {},
   "source": [
    "#### **Step 6: Split the Dataset into Training and Validation dataset**"
   ]
  },
  {
   "cell_type": "code",
   "execution_count": 38,
   "id": "3cb14fa1",
   "metadata": {},
   "outputs": [],
   "source": [
    "from sklearn.model_selection import train_test_split\n",
    "\n",
    "# Split into validation and training data\n",
    "X_train, X_valid, y_train, y_valid = train_test_split(X, y, random_state=1)"
   ]
  },
  {
   "cell_type": "markdown",
   "id": "e0d67685",
   "metadata": {},
   "source": [
    "#### **Step 7: Specify and fit the model**\n",
    "(fit = train = Learn the pattern)"
   ]
  },
  {
   "cell_type": "code",
   "execution_count": null,
   "id": "81da6014",
   "metadata": {},
   "outputs": [],
   "source": [
    "from sklearn.tree import DecisionTreeRegressor\n",
    "\n",
    "dtree_model = DecisionTreeRegressor(random_state=1)\n",
    "\n",
    "dtree_model.fit(X_train, y_train)"
   ]
  },
  {
   "cell_type": "markdown",
   "id": "caaba0b3",
   "metadata": {},
   "source": [
    "#### **Step 8: Make (In-Sample) Prediction**"
   ]
  },
  {
   "cell_type": "code",
   "execution_count": 79,
   "id": "5ca9ccf9",
   "metadata": {},
   "outputs": [
    {
     "data": {
      "text/plain": [
       "(array([186500., 184000., 130000.,  92000., 164500., 220000., 335000.,\n",
       "        144152., 215000., 262000.]),\n",
       " (365,))"
      ]
     },
     "execution_count": 79,
     "metadata": {},
     "output_type": "execute_result"
    }
   ],
   "source": [
    "# Make a prediction of y based on the feature of validation dataset (X_valid) \n",
    "y_pred = dtree_model.predict(X_valid) \n",
    "y_pred[:10], y_pred.shape"
   ]
  },
  {
   "cell_type": "markdown",
   "id": "dddae119",
   "metadata": {},
   "source": [
    "#### **Step 9: Model Evaluation**"
   ]
  },
  {
   "cell_type": "code",
   "execution_count": 40,
   "id": "00acabd4",
   "metadata": {},
   "outputs": [
    {
     "name": "stdout",
     "output_type": "stream",
     "text": [
      "Validation MAE when not specifying max_leaf_nodes: 29,653\n"
     ]
    }
   ],
   "source": [
    "from sklearn.metrics import mean_absolute_error\n",
    "\n",
    "val_mae = mean_absolute_error(y_pred, y_valid)\n",
    "print(\"Validation MAE when not specifying max_leaf_nodes: {:,.0f}\".format(val_mae))"
   ]
  },
  {
   "cell_type": "markdown",
   "id": "b3f316c9",
   "metadata": {},
   "source": [
    "#### **Step 10: Model Tuning - Approach 1: Use function-loop-list**"
   ]
  },
  {
   "cell_type": "markdown",
   "id": "e7611478",
   "metadata": {},
   "source": [
    "##### **Step 10.1: For Decision Tree Model - max_leaf_nodes (tree size)** "
   ]
  },
  {
   "cell_type": "code",
   "execution_count": 41,
   "id": "b4ccbf38",
   "metadata": {},
   "outputs": [
    {
     "name": "stdout",
     "output_type": "stream",
     "text": [
      "28707.31\n",
      "28106.18\n",
      "27110.9\n",
      "27389.89\n",
      "27282.51\n",
      "27322.73\n",
      "27093.34\n",
      "27159.35\n",
      "27425.13\n",
      "Best Validation MAE using the best max_leaf_nodes = 27093.34\n"
     ]
    }
   ],
   "source": [
    "# Using best value for max_leaf_nodes\n",
    "def dtree_compare_max_leaf_nodes(max_leaf_nodes=100):\n",
    "    dtree_model = DecisionTreeRegressor(max_leaf_nodes=max_leaf_nodes, random_state=1)\n",
    "    dtree_model.fit(X_train, y_train)\n",
    "    y_pred = dtree_model.predict(X_valid)\n",
    "    val_mae = mean_absolute_error(y_valid, y_pred)\n",
    "    return round(val_mae,2)\n",
    "\n",
    "list_max_leaf_nodes = []\n",
    "for i in range(20, 200, 20):\n",
    "    print(dtree_compare_max_leaf_nodes(i))\n",
    "    list_max_leaf_nodes.append(dtree_compare_max_leaf_nodes(i))\n",
    "print(f\"Best Validation MAE using the best max_leaf_nodes = {min(list_max_leaf_nodes)}\")"
   ]
  },
  {
   "cell_type": "markdown",
   "id": "9c934972",
   "metadata": {},
   "source": [
    "##### **Step 10.2: For Random Forest Model - n_estimators** "
   ]
  },
  {
   "cell_type": "code",
   "execution_count": 42,
   "id": "6a25dcfb",
   "metadata": {},
   "outputs": [
    {
     "name": "stdout",
     "output_type": "stream",
     "text": [
      "21924.85\n",
      "22108.63\n",
      "21891.25\n",
      "21758.53\n",
      "21857.16\n",
      "21832.84\n",
      "21844.24\n",
      "21929.09\n",
      "21973.68\n",
      "Best Validation MAE using the best n_estimators = 21758.53\n"
     ]
    }
   ],
   "source": [
    "from sklearn.ensemble import RandomForestRegressor\n",
    "\n",
    "# Define a function for Random Forest Tree to compare its parameters\n",
    "def rf_compare_n_estimators(n_estimators=100):    \n",
    "    # Define the model. Set random_state to 1\n",
    "    rf_model = RandomForestRegressor(n_estimators=n_estimators, random_state=1)\n",
    "    rf_model.fit(X_train, y_train)\n",
    "    y_pred = rf_model.predict(X_valid)\n",
    "    val_mae = mean_absolute_error(y_valid, y_pred)\n",
    "    return round(val_mae,2)\n",
    "\n",
    "\n",
    "list_n_estimators = []\n",
    "for i in range(20, 200, 20):\n",
    "    print(rf_compare_n_estimators(i))\n",
    "    list_n_estimators.append(rf_compare_n_estimators(i))\n",
    "print(f\"Best Validation MAE using the best n_estimators = {min(list_n_estimators)}\")\n",
    "\n",
    "# later epoch takes longer time to train\n"
   ]
  },
  {
   "cell_type": "markdown",
   "id": "7f56bdaf",
   "metadata": {},
   "source": [
    "#### **Step 11: Other Approaches to evaluate, test, and tune hyperparameters**"
   ]
  },
  {
   "cell_type": "code",
   "execution_count": null,
   "id": "23085854",
   "metadata": {},
   "outputs": [],
   "source": [
    "# Other approaches to find best hyper parameters\n",
    "\n",
    "def get_mae(max_leaf_nodes, X_train, X_valid, y_train, y_valid): \n",
    "    model = DecisionTreeRegressor(max_leaf_nodes=max_leaf_nodes, random_state=0) \n",
    "    model.fit(X_train, y_train) \n",
    "    y_pred = model.predict(X_valid) \n",
    "    mae = mean_absolute_error(y_valid, y_pred) \n",
    "    return(mae)"
   ]
  },
  {
   "cell_type": "code",
   "execution_count": null,
   "id": "c017532a",
   "metadata": {},
   "outputs": [
    {
     "name": "stdout",
     "output_type": "stream",
     "text": [
      "Best Tree Size = 100\n",
      "\n",
      "Printing method 2: MAE: 27,282.51\n",
      "\n"
     ]
    }
   ],
   "source": [
    "candidate_max_leaf_nodes = [5, 25, 50, 100, 250, 500]\n",
    "\n",
    "# Method 1: Write loop to find the ideal tree size from candidate_max_leaf_nodes\n",
    "scores = {}\n",
    "for leaf_size in candidate_max_leaf_nodes: \n",
    "    mae = get_mae(leaf_size, X_train, X_valid, y_train, y_valid) \n",
    "    \n",
    "    # dict[key] = value\n",
    "    scores[leaf_size] = mae \n",
    "\n",
    "# Store the best value of max_leaf_nodes (it will be either 5, 25, 50, 100, 250 or 500) \n",
    "best_tree_size = min(scores, key=scores.get)        \n",
    "    # .get to retrieve value from that key\n",
    "\n",
    "# ---------------------------------------------------------------------------------------\n",
    "print(f\"Best Tree Size = {best_tree_size}\\n\")\n",
    "\n",
    "val_mae_dtree_best_size = get_mae(best_tree_size, X_train, X_valid, y_train, y_valid)\n",
    "print(\"Printing method 2: MAE: {:,.02f}\\n\".format(val_mae_dtree_best_size))"
   ]
  },
  {
   "cell_type": "code",
   "execution_count": 117,
   "id": "7b724d2e",
   "metadata": {},
   "outputs": [
    {
     "name": "stdout",
     "output_type": "stream",
     "text": [
      "Best Tree Size = 100\n",
      "\n",
      "Printing method 3: MAE: 27,282.51\n",
      "\n"
     ]
    }
   ],
   "source": [
    "candidate_max_leaf_nodes = [5, 25, 50, 100, 250, 500]\n",
    "             \n",
    "# Method 2: creating dictionary {key: value for item in iterable} in one line\n",
    "scores = {leaf_size: get_mae(leaf_size, X_train, X_valid, y_train, y_valid) for leaf_size in candidate_max_leaf_nodes}\n",
    "\n",
    "# Store the best value of max_leaf_nodes (it will be either 5, 25, 50, 100, 250 or 500) \n",
    "best_tree_size = min(scores, key=scores.get)        \n",
    "    # .get to retrieve value from that key\n",
    "\n",
    "# ---------------------------------------------------------------------------------------\n",
    "print(f\"Best Tree Size = {best_tree_size}\\n\")\n",
    "\n",
    "val_mae_dtree_best_size = get_mae(best_tree_size, X_train, X_valid, y_train, y_valid)\n",
    "\n",
    "print(f\"Printing method 3: MAE: {val_mae_dtree_best_size:,.2f}\\n\")\n",
    "# val_mae_rf = mean_absolute_error()"
   ]
  },
  {
   "cell_type": "code",
   "execution_count": null,
   "id": "5c9034d1",
   "metadata": {},
   "outputs": [
    {
     "name": "stdout",
     "output_type": "stream",
     "text": [
      "3 Ways of Printing:\n",
      "\n",
      "1: MAE: 27282.51\n",
      "2: MAE: 27,282.51\n",
      "3: MAE: 27,282.51\n"
     ]
    }
   ],
   "source": [
    "# Note: 3 Ways of Printing:\n",
    "print(f\"1: MAE: {round(val_mae_dtree_best_size, 2)}\")\n",
    "\n",
    "print(\"2: MAE: {:,.02f}\".format(val_mae_dtree_best_size))\n",
    "\n",
    "print(f\"3: MAE: {val_mae_dtree_best_size:,.2f}\")"
   ]
  },
  {
   "cell_type": "markdown",
   "id": "ff23904c",
   "metadata": {},
   "source": [
    "### **Python Tips:**"
   ]
  },
  {
   "cell_type": "code",
   "execution_count": 104,
   "id": "8445fca7",
   "metadata": {},
   "outputs": [
    {
     "data": {
      "text/plain": [
       "15"
      ]
     },
     "execution_count": 104,
     "metadata": {},
     "output_type": "execute_result"
    }
   ],
   "source": [
    "# Good to know 1: Built-in library: datetime\n",
    "from datetime import datetime\n",
    "\n",
    "newest_home_age = datetime.now().year - 2010\n",
    "\n",
    "newest_home_age"
   ]
  },
  {
   "cell_type": "code",
   "execution_count": 121,
   "id": "c3c55d8e",
   "metadata": {},
   "outputs": [
    {
     "data": {
      "text/plain": [
       "['LotArea',\n",
       " 'YearBuilt',\n",
       " '1stFlrSF',\n",
       " '2ndFlrSF',\n",
       " 'FullBath',\n",
       " 'BedroomAbvGr',\n",
       " 'TotRmsAbvGrd']"
      ]
     },
     "execution_count": 121,
     "metadata": {},
     "output_type": "execute_result"
    }
   ],
   "source": [
    "# Good to know 2: Creating a List using .split() method\n",
    "feature_names = 'LotArea * YearBuilt * 1stFlrSF * 2ndFlrSF * FullBath * BedroomAbvGr * TotRmsAbvGrd' \n",
    "feature_names = feature_names.split(' * ')\n",
    "feature_names"
   ]
  },
  {
   "cell_type": "code",
   "execution_count": null,
   "id": "4f991ad7",
   "metadata": {},
   "outputs": [],
   "source": []
  }
 ],
 "metadata": {
  "kernelspec": {
   "display_name": "Python 3",
   "language": "python",
   "name": "python3"
  },
  "language_info": {
   "codemirror_mode": {
    "name": "ipython",
    "version": 3
   },
   "file_extension": ".py",
   "mimetype": "text/x-python",
   "name": "python",
   "nbconvert_exporter": "python",
   "pygments_lexer": "ipython3",
   "version": "3.12.7"
  }
 },
 "nbformat": 4,
 "nbformat_minor": 5
}
