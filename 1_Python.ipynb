{
 "cells": [
  {
   "cell_type": "markdown",
   "id": "3debecc2-e547-4dfd-84c8-bcb9bb8e6b5a",
   "metadata": {},
   "source": [
    "## Getting Help"
   ]
  },
  {
   "cell_type": "code",
   "execution_count": null,
   "id": "88234402-0735-4c6b-a7ca-d6384cd835ac",
   "metadata": {},
   "outputs": [],
   "source": [
    "help(round)\n",
    "help(round(-2.01))\n",
    "help(print)"
   ]
  },
  {
   "cell_type": "markdown",
   "id": "af6e759b-2d8b-43f1-a2c5-2871943c0990",
   "metadata": {
    "jp-MarkdownHeadingCollapsed": true
   },
   "source": [
    "## Commenting"
   ]
  },
  {
   "cell_type": "code",
   "execution_count": 1,
   "id": "897a2e19",
   "metadata": {},
   "outputs": [
    {
     "data": {
      "text/plain": [
       "' (Multi-line Comment)\\nGeneral Info - Jupyter\\n* Cell\\n    * Code Cell\\n    * Markdown cell\\n\\n* Keys: \\n    * Ctrl + Enter to compile\\n'"
      ]
     },
     "execution_count": 1,
     "metadata": {},
     "output_type": "execute_result"
    }
   ],
   "source": [
    "# Single line comment\n",
    "''' (Multi-line Comment / Docstrings)\n",
    "General Info - Jupyter\n",
    "* Cell\n",
    "    * Code Cell\n",
    "    * Markdown cell\n",
    "\n",
    "* Keys: \n",
    "    * Ctrl + Enter to compile\n",
    "'''"
   ]
  },
  {
   "cell_type": "markdown",
   "id": "4004a195-8a15-4354-9d4a-b83ca3815b4e",
   "metadata": {
    "jp-MarkdownHeadingCollapsed": true
   },
   "source": [
    "## Arithmetic"
   ]
  },
  {
   "cell_type": "code",
   "execution_count": null,
   "id": "c23fcd92",
   "metadata": {},
   "outputs": [
    {
     "name": "stdout",
     "output_type": "stream",
     "text": [
      "196.0\n"
     ]
    }
   ],
   "source": [
    "# Arithmetic & Variables\n",
    "## Addition\t\n",
    "add = 1 + 2\n",
    "## Subtraction\n",
    "sub = 5 - 4\n",
    "## Multiplication\n",
    "mul = 2 * 4 \n",
    "## Division\n",
    "div = 6 / 3\n",
    "## Floor Division = หารตัดเศษทิ้ง ไม่ round\n",
    "f_div = 22/7\n",
    "## Exponent\n",
    "exp = 3 ** 2\n",
    "## Modulus- Integer remainder after division of a by b\n",
    "mod = 10 % 3\n",
    "## ~a = a+=1\n",
    "'''\n",
    "~-1 = 0\n",
    "~20 = 21\n",
    "'''\n",
    "\n",
    "print(((1 + 3) * (9 - 2) / 2) ** 2)"
   ]
  },
  {
   "cell_type": "code",
   "execution_count": 4,
   "id": "5adaf350",
   "metadata": {},
   "outputs": [
    {
     "data": {
      "text/plain": [
       "50"
      ]
     },
     "execution_count": 4,
     "metadata": {},
     "output_type": "execute_result"
    }
   ],
   "source": [
    "# Variable can be overwritten\n",
    "a = 50\n",
    "a"
   ]
  },
  {
   "cell_type": "code",
   "execution_count": 5,
   "id": "eaca2a27",
   "metadata": {},
   "outputs": [
    {
     "name": "stdout",
     "output_type": "stream",
     "text": [
      "100\n",
      "103\n"
     ]
    }
   ],
   "source": [
    "my_var = 100\n",
    "print(my_var)\n",
    "\n",
    "# Increase the value by 3\n",
    "my_var = my_var + 3\n",
    "\n",
    "# Print the value assigned to my_var\n",
    "print(my_var)\n",
    "\n",
    "a = 1 + 2\n",
    "b = 9 - 5\n",
    "\n",
    "c = a ** b\n"
   ]
  },
  {
   "cell_type": "markdown",
   "id": "193e0e25-17fe-425a-9598-8b99e0c8df01",
   "metadata": {
    "jp-MarkdownHeadingCollapsed": true
   },
   "source": [
    "## Output"
   ]
  },
  {
   "cell_type": "code",
   "execution_count": 6,
   "id": "44add4ab",
   "metadata": {},
   "outputs": [
    {
     "name": "stdout",
     "output_type": "stream",
     "text": [
      "Hello, world!\n",
      "3\n",
      "4\n"
     ]
    }
   ],
   "source": [
    "# Output - Computer's Response\n",
    "\n",
    "print(\"Hello, world!\")\n",
    "print(a)\n",
    "print(9-5)\n",
    "\n",
    "mystery = print()\n",
    "print(mystery)\n",
    "\n",
    "print(1, 2, 3, sep=' < ')\n",
    "print(1, 2, 3)\n"
   ]
  },
  {
   "cell_type": "markdown",
   "id": "46ae3c67",
   "metadata": {
    "jp-MarkdownHeadingCollapsed": true
   },
   "source": [
    "## Data Types"
   ]
  },
  {
   "cell_type": "code",
   "execution_count": 7,
   "id": "945d07f3",
   "metadata": {},
   "outputs": [
    {
     "data": {
      "text/plain": [
       "str"
      ]
     },
     "execution_count": 7,
     "metadata": {},
     "output_type": "execute_result"
    }
   ],
   "source": [
    "# Integer (int) - no decimal places\n",
    "my_int = 6\n",
    "\n",
    "# Floating Points - decimal places allowed\n",
    "my_float = 3.14\n",
    "my_float_pi = 22/7\n",
    "\n",
    "# Bool \n",
    "my_bool_T = True\n",
    "my_bool_F = False\n",
    "\n",
    "# String - Text stored in \"\" or ''\n",
    "my_str = \"Hello\"\n",
    "\n",
    "# Check variable data type\n",
    "type(my_str)"
   ]
  },
  {
   "cell_type": "markdown",
   "id": "ce7c2fca-2422-4cc4-b690-a7de542570a5",
   "metadata": {
    "jp-MarkdownHeadingCollapsed": true
   },
   "source": [
    "#### Integer"
   ]
  },
  {
   "cell_type": "code",
   "execution_count": 8,
   "id": "74673d98",
   "metadata": {},
   "outputs": [
    {
     "name": "stdout",
     "output_type": "stream",
     "text": [
      "14\n",
      "<class 'int'>\n"
     ]
    }
   ],
   "source": [
    "# Integer (int) - no decimal places\n",
    "\n",
    "x = 14\n",
    "print(x)\n",
    "print(type(x))"
   ]
  },
  {
   "cell_type": "markdown",
   "id": "3cc3c094-81f1-4f2f-948d-2fabc62f8677",
   "metadata": {
    "jp-MarkdownHeadingCollapsed": true
   },
   "source": [
    "#### Float"
   ]
  },
  {
   "cell_type": "code",
   "execution_count": null,
   "id": "13fbb6f3",
   "metadata": {},
   "outputs": [
    {
     "name": "stdout",
     "output_type": "stream",
     "text": [
      "1.0\n",
      "<class 'float'>\n",
      "3.14286\n",
      "<class 'float'>\n"
     ]
    }
   ],
   "source": [
    "# Floating Points - decimal places allowed\n",
    "my_float = 3.14\n",
    "my_float_pi = 22/7\n",
    "\n",
    "# 1. (or 1.0, 1.00, etc) will be recognized as a float.\n",
    "y_float = 1.\n",
    "print(y_float)\n",
    "print(type(y_float))\n",
    "\n",
    "# Round to 5 decimal places\n",
    "rounded_pi = round(my_float_pi, 5)\n",
    "print(rounded_pi)\n",
    "print(type(rounded_pi))"
   ]
  },
  {
   "cell_type": "code",
   "execution_count": 2,
   "id": "135fb3e4",
   "metadata": {},
   "outputs": [
    {
     "name": "stdout",
     "output_type": "stream",
     "text": [
      "10.0\n",
      "3\n",
      "808\n"
     ]
    }
   ],
   "source": [
    "print(float(10))\n",
    "print(int(3.33))"
   ]
  },
  {
   "cell_type": "markdown",
   "id": "fea6e194-782b-4c6f-b337-5425af3599d9",
   "metadata": {
    "jp-MarkdownHeadingCollapsed": true
   },
   "source": [
    "#### Boolean"
   ]
  },
  {
   "cell_type": "code",
   "execution_count": 10,
   "id": "aaf2e566",
   "metadata": {},
   "outputs": [
    {
     "name": "stdout",
     "output_type": "stream",
     "text": [
      "True\n",
      "<class 'bool'>\n",
      "False\n",
      "<class 'bool'>\n",
      "True\n",
      "<class 'bool'>\n",
      "False\n",
      "<class 'bool'>\n",
      "True\n",
      "<class 'bool'>\n"
     ]
    }
   ],
   "source": [
    "# Boolean\n",
    "z_one = True\n",
    "print(z_one)\n",
    "print(type(z_one))\n",
    "\n",
    "z_two = False\n",
    "print(z_two)\n",
    "print(type(z_two))\n",
    "\n",
    "z_three = (1 < 2)\n",
    "print(z_three)\n",
    "print(type(z_three))\n",
    "\n",
    "z_four = (5 < 3)\n",
    "print(z_four)\n",
    "print(type(z_four))\n",
    "\n",
    "z_five = not z_four\n",
    "print(z_five)\n",
    "print(type(z_five))"
   ]
  },
  {
   "cell_type": "markdown",
   "id": "3e17edad-8e28-4618-8820-b9e7895fc624",
   "metadata": {
    "jp-MarkdownHeadingCollapsed": true
   },
   "source": [
    "#### String"
   ]
  },
  {
   "cell_type": "code",
   "execution_count": 11,
   "id": "3b3f795a",
   "metadata": {},
   "outputs": [
    {
     "name": "stdout",
     "output_type": "stream",
     "text": [
      "Hello, Python!\n",
      "<class 'str'>\n",
      "14\n",
      "<class 'str'>\n",
      "0\n",
      "1.12321\n",
      "<class 'str'>\n",
      "1.12321\n",
      "<class 'float'>\n",
      "abcdef\n",
      "<class 'str'>\n",
      "abcabcabc\n",
      "<class 'str'>\n"
     ]
    }
   ],
   "source": [
    "# String\n",
    "w = \"Hello, Python!\"\n",
    "print(w)\n",
    "print(type(w))\n",
    "\n",
    "print(len(w))\n",
    "\n",
    "shortest_string = \"\"\n",
    "print(type(shortest_string))\n",
    "print(len(shortest_string))\n",
    "\n",
    "my_number = \"1.12321\"\n",
    "print(my_number)\n",
    "print(type(my_number))\n",
    "\n",
    "also_my_number = float(my_number)\n",
    "print(also_my_number)\n",
    "print(type(also_my_number))\n",
    "\n",
    "new_string = \"abc\" + \"def\"\n",
    "print(new_string)\n",
    "print(type(new_string))\n",
    "\n",
    "newest_string = \"abc\" * 3\n",
    "print(newest_string)\n",
    "print(type(newest_string))"
   ]
  },
  {
   "cell_type": "markdown",
   "id": "241413ec-d07c-4379-98a5-19d539905603",
   "metadata": {
    "jp-MarkdownHeadingCollapsed": true
   },
   "source": [
    "### Data Type Conversion"
   ]
  },
  {
   "cell_type": "code",
   "execution_count": null,
   "id": "de4ef730-7813-4401-9329-82023e53a492",
   "metadata": {},
   "outputs": [],
   "source": [
    "# They can even be called on strings!\n",
    "print(int('807') + 1)\n",
    "\n",
    "# float()\n",
    "# bool()\n",
    "# str()"
   ]
  },
  {
   "cell_type": "code",
   "execution_count": 86,
   "id": "541ead20-d68a-4943-bf29-2d66c6b96eb2",
   "metadata": {},
   "outputs": [
    {
     "name": "stdout",
     "output_type": "stream",
     "text": [
      "True\n",
      "False\n",
      "True\n",
      "False\n"
     ]
    }
   ],
   "source": [
    "print(bool(1)) # all numbers are treated as true, except 0\n",
    "print(bool(0))\n",
    "print(bool(\"asf\")) # all strings are treated as true, except the empty string \"\"\n",
    "print(bool(\"\"))"
   ]
  },
  {
   "cell_type": "markdown",
   "id": "4132a5d9-9c57-42a7-ad16-e39bf5860a34",
   "metadata": {
    "jp-MarkdownHeadingCollapsed": true
   },
   "source": [
    "## Math Operations"
   ]
  },
  {
   "cell_type": "code",
   "execution_count": null,
   "id": "2b179590",
   "metadata": {},
   "outputs": [],
   "source": [
    "print(min(1, 2, 3))\n",
    "print(max(1, 2, 3))\n",
    "print(abs(32))\n",
    "print(abs(-32))"
   ]
  },
  {
   "cell_type": "markdown",
   "id": "bdd91b3d-7b5f-4c04-b19f-5779841703e6",
   "metadata": {
    "jp-MarkdownHeadingCollapsed": true
   },
   "source": [
    "# Functions"
   ]
  },
  {
   "cell_type": "markdown",
   "id": "5b0b4ac5-20af-4d0f-b9ab-7cc6ff5ddac4",
   "metadata": {
    "jp-MarkdownHeadingCollapsed": true
   },
   "source": [
    "## Functions - Basics"
   ]
  },
  {
   "cell_type": "code",
   "execution_count": 19,
   "id": "4583d472-b905-4808-9c6f-4e1000b88ac4",
   "metadata": {},
   "outputs": [],
   "source": [
    "# Define the function\n",
    "\n",
    "# Naming functions, you should use only lowercase letters, with words separated by underscores instead of spaces.\n",
    "\n",
    "# Header - defines the name of the function and its argument(s).\n",
    "def add_three(input_var):\n",
    "    # Body specifies the work that the function does.\n",
    "    output_var = input_var + 3\n",
    "    return output_var"
   ]
  },
  {
   "cell_type": "code",
   "execution_count": null,
   "id": "2891d5a2-f7fc-4913-8a60-0ae4b678ed20",
   "metadata": {},
   "outputs": [],
   "source": [
    "# Call a function \n",
    "\n",
    "# Run the function with 10 as input\n",
    "new_number = add_three(10)\n",
    "\n",
    "# Check that the value is 13, as expected\n",
    "print(new_number)"
   ]
  },
  {
   "cell_type": "code",
   "execution_count": null,
   "id": "52ba58bb-2594-4f4b-8193-d55ddf251384",
   "metadata": {},
   "outputs": [],
   "source": [
    "def get_pay(num_hours):\n",
    "    \n",
    "    # Pre-tax pay, based on receiving $15/hour\n",
    "    pay_pretax = num_hours * 15\n",
    "    \n",
    "    # After-tax pay, based on being in 12% tax bracket\n",
    "    pay_aftertax = pay_pretax * (1 - .12)\n",
    "    \n",
    "    return pay_aftertax\n",
    "\n",
    "\n",
    "# Calculate pay based on working 40 hours\n",
    "pay_fulltime = get_pay(40)\n",
    "print(pay_fulltime)\n",
    "\n",
    "pay_parttime = get_pay(32)\n",
    "print(pay_parttime)\n",
    "\n",
    "print(pay_aftertax)"
   ]
  },
  {
   "cell_type": "code",
   "execution_count": null,
   "id": "633adf65-9157-481f-ad08-80788c02d6f2",
   "metadata": {},
   "outputs": [],
   "source": [
    "def get_pay_with_more_inputs(num_hours, hourly_wage, tax_bracket):\n",
    "    \n",
    "    # Pre-tax pay\n",
    "    pay_pretax = num_hours * hourly_wage\n",
    "    \n",
    "    # After-tax pay\n",
    "    pay_aftertax = pay_pretax * (1 - tax_bracket)\n",
    "    return pay_aftertax\n",
    "\n",
    "\n",
    "higher_pay_aftertax = get_pay_with_more_inputs(40, 24, .22)\n",
    "print(higher_pay_aftertax)\n",
    "\n",
    "same_pay_fulltime = get_pay_with_more_inputs(40, 15, .12)\n",
    "print(same_pay_fulltime)"
   ]
  },
  {
   "cell_type": "code",
   "execution_count": null,
   "id": "7583e3be-240f-4d62-964d-835bf804f8cd",
   "metadata": {},
   "outputs": [],
   "source": [
    "# Define the function with no arguments and with no return\n",
    "\n",
    "def print_hello():\n",
    "    print(\"Hello, you!\")\n",
    "    print(\"Good morning!\")\n",
    "    \n",
    "# Call the function\n",
    "print_hello()"
   ]
  },
  {
   "cell_type": "code",
   "execution_count": null,
   "id": "a5146ca5-466f-4136-9eeb-59d058cbdad9",
   "metadata": {},
   "outputs": [],
   "source": [
    "# Example 1: \n",
    "def get_expected_cost(beds, baths):\n",
    "    value = 80000 + ((beds * 30000) + (baths * 10000))\n",
    "    return value\n",
    "\n",
    "# Use the get_expected_cost function to fill in each value\n",
    "option_one = get_expected_cost(2,3)\n",
    "option_two = get_expected_cost(3,2)\n",
    "option_three = get_expected_cost(3,3)\n",
    "option_four = get_expected_cost(3,4)\n",
    "\n",
    "print(option_one)\n",
    "print(option_two)\n",
    "print(option_three)\n",
    "print(option_four)"
   ]
  },
  {
   "cell_type": "code",
   "execution_count": null,
   "id": "186ed265-6bb2-473d-89bb-6d90591e36c0",
   "metadata": {},
   "outputs": [],
   "source": [
    "# Example 2: \n",
    "def get_cost(sqft_walls, sqft_ceiling, sqft_per_gallon, cost_per_gallon):\n",
    "    cost = ((sqft_walls + sqft_ceiling)/sqft_per_gallon)*cost_per_gallon\n",
    "    return cost\n",
    "\n",
    "project_cost = get_cost(432, 144, 400, 15)\n"
   ]
  },
  {
   "cell_type": "code",
   "execution_count": null,
   "id": "afa7562f-d6e2-4564-9f69-3282896735c0",
   "metadata": {},
   "outputs": [],
   "source": [
    "test_value = 2.17\n",
    "\n",
    "rounded_value = math.ceil(test_value)\n",
    "print(rounded_value)\n",
    "\n",
    "def get_cost(sqft_walls, sqft_ceiling, sqft_per_gallon, cost_per_gallon):\n",
    "    total_sqft = sqft_walls + sqft_ceiling\n",
    "    gallons_needed = total_sqft / sqft_per_gallon\n",
    "    cost = cost_per_gallon * gallons_needed\n",
    "    actual_cost = math.ceil(cost)\n",
    "    return actual_cost\n",
    "\n",
    "get_actual_cost(432, 144, 400, 15) \n",
    "get_actual_cost(594, 288, 400, 15) "
   ]
  },
  {
   "cell_type": "markdown",
   "id": "14afd0d7-7585-4442-8715-8217d0c8d0eb",
   "metadata": {
    "jp-MarkdownHeadingCollapsed": true
   },
   "source": [
    "## Functions - Intermediate"
   ]
  },
  {
   "cell_type": "code",
   "execution_count": 15,
   "id": "5d6ce482-07cf-4d02-8c25-2d9c52db6074",
   "metadata": {},
   "outputs": [
    {
     "name": "stdout",
     "output_type": "stream",
     "text": [
      "\n",
      " 9 \n",
      " 0 \n",
      " 1\n",
      "Help on function least_difference in module __main__:\n",
      "\n",
      "least_difference(a, b, c)\n",
      "    Return the smallest difference between any two numbers\n",
      "    among a, b and c.\n",
      "\n"
     ]
    }
   ],
   "source": [
    "def least_difference(a, b, c):\n",
    "    \"\"\"\n",
    "    Return the smallest difference between any two numbers\n",
    "    among a, b and c.\n",
    "    \"\"\"\n",
    "    diff1 = abs(a - b)\n",
    "    diff2 = abs(b - c)\n",
    "    diff3 = abs(a - c)\n",
    "    return min(diff1, diff2, diff3)\n",
    "\n",
    "print(\n",
    "    \"\\n\",least_difference(1, 10, 100),\n",
    "    \"\\n\",least_difference(1, 10, 10),\n",
    "    \"\\n\",least_difference(5, 6, 7), # Python allows trailing commas in argument lists. How nice is that?\n",
    ")\n",
    "\n",
    "help(least_difference)"
   ]
  },
  {
   "cell_type": "code",
   "execution_count": 16,
   "id": "8e5d2f74-efc4-423b-948c-eca9af1245e7",
   "metadata": {},
   "outputs": [
    {
     "name": "stdout",
     "output_type": "stream",
     "text": [
      "Hello, Colin\n",
      "Hello, Kaggle\n",
      "Hello, world\n"
     ]
    }
   ],
   "source": [
    "def greet(who=\"Colin\"):\n",
    "    print(\"Hello,\", who)\n",
    "    \n",
    "greet()\n",
    "greet(who=\"Kaggle\")\n",
    "# (In this case, we don't need to specify the name of the argument, because it's unambiguous.)\n",
    "greet(\"world\")"
   ]
  },
  {
   "cell_type": "code",
   "execution_count": 20,
   "id": "c39dec0f-6fe6-4da4-9fb6-21230e26b9ee",
   "metadata": {
    "scrolled": true
   },
   "outputs": [
    {
     "name": "stdout",
     "output_type": "stream",
     "text": [
      "5\n",
      "25\n"
     ]
    }
   ],
   "source": [
    "# Functions Applied to Functions\n",
    "\n",
    "def mult_by_five(x):\n",
    "    return 5 * x\n",
    "\n",
    "def call(fn, arg):\n",
    "    \"\"\"Call fn on arg\"\"\"\n",
    "    return fn(arg)\n",
    "\n",
    "def squared_call(fn, arg):\n",
    "    \"\"\"Call fn on the result of calling fn on arg\"\"\"\n",
    "    return fn(fn(arg))\n",
    "\n",
    "print(\n",
    "    call(mult_by_five, 1),\n",
    "    squared_call(mult_by_five, 1), \n",
    "    sep='\\n', # '\\n' is the newline character - it starts a new line\n",
    ")"
   ]
  },
  {
   "cell_type": "code",
   "execution_count": 18,
   "id": "d2c32e10-5891-4396-aa22-93b73a735d54",
   "metadata": {},
   "outputs": [
    {
     "name": "stdout",
     "output_type": "stream",
     "text": [
      "Which number is biggest?\n",
      "100\n",
      "Which number is the biggest modulo 5?\n",
      "14\n"
     ]
    }
   ],
   "source": [
    "def mod_5(x):\n",
    "    \"\"\"Return the remainder of x after dividing by 5\"\"\"\n",
    "    return x % 5\n",
    "\n",
    "print(\n",
    "    'Which number is biggest?',\n",
    "    max(100, 51, 14),\n",
    "    'Which number is the biggest modulo 5?',\n",
    "    max(100, 51, 14, key=mod_5),\n",
    "    sep='\\n',\n",
    ")"
   ]
  },
  {
   "cell_type": "code",
   "execution_count": null,
   "id": "2d1a0562-fd98-48d8-9d81-6ab10f5eadd1",
   "metadata": {},
   "outputs": [],
   "source": [
    "# Exercise 1\n",
    "\n",
    "def round_to_two_places(num):\n",
    "    return round(num, 2)\n",
    "    \n",
    "    \"\"\"Return the given number rounded to two decimal places. \n",
    "    \n",
    "    >>> round_to_two_places(3.14159)\n",
    "    3.14\n",
    "    \"\"\"\n",
    "help(round)\n",
    "round(338424, -3)\n",
    "\n",
    "# round(338424, ndigits=-3) >> 338000\n",
    "    "
   ]
  },
  {
   "cell_type": "code",
   "execution_count": null,
   "id": "4aca37c7-7678-4d07-b4dc-84b5274e6370",
   "metadata": {},
   "outputs": [],
   "source": [
    "def to_smash(total_candies, person = 3):\n",
    "    \"\"\"Return the number of leftover candies that must be smashed after distributing\n",
    "    the given number of candies evenly between 3 friends.\n",
    "    \n",
    "    >>> to_smash(91)\n",
    "    1\n",
    "    \"\"\"\n",
    "    return total_candies % person"
   ]
  },
  {
   "cell_type": "code",
   "execution_count": 31,
   "id": "fa0848a6-4e98-4e95-a51a-d060646668ad",
   "metadata": {},
   "outputs": [
    {
     "name": "stdout",
     "output_type": "stream",
     "text": [
      "List of abs values: [10, 5]\n",
      "\n",
      "Minimum abs value: 5\n"
     ]
    }
   ],
   "source": [
    "def f(x):\n",
    "    y = abs(x)\n",
    "    return y\n",
    "\n",
    "x = -10\n",
    "y = 5\n",
    "\n",
    "list_of_abs = list((f(x), f(y)))\n",
    "print(f\"List of abs values: {list_of_abs}\\n\")\n",
    "\n",
    "\n",
    "# # Which of the two variables above has the smallest absolute value?\n",
    "print(f\"Minimum abs value: {min(list_of_abs)}\")\n"
   ]
  },
  {
   "cell_type": "markdown",
   "id": "435b6f0e-68ef-4b27-a3c4-d6f33819d7ce",
   "metadata": {
    "jp-MarkdownHeadingCollapsed": true
   },
   "source": [
    "## Functions - Intermediate+"
   ]
  },
  {
   "cell_type": "code",
   "execution_count": 7,
   "id": "32036f83-797e-4476-bd6f-cb101c648046",
   "metadata": {},
   "outputs": [],
   "source": [
    "# Exercise 1\n",
    "\n",
    "def get_expected_cost(beds, baths, has_basement):\n",
    "    value = 80000 + (beds * 30000 + baths * 10000 + has_basement * 40000)\n",
    "    return value"
   ]
  },
  {
   "cell_type": "code",
   "execution_count": 3,
   "id": "0e48abdd-23a6-46f3-a742-45f7a9fec78f",
   "metadata": {},
   "outputs": [
    {
     "name": "stdout",
     "output_type": "stream",
     "text": [
      "240\n",
      "120\n"
     ]
    }
   ],
   "source": [
    "# Exercise 2\n",
    "\n",
    "def cost_of_project(engraving, solid_gold):\n",
    "    cost = (50 + len(engraving) * 7) + (50 + len(engraving) * (10-7)) * solid_gold\n",
    "    return cost\n",
    "\n",
    "project_one = cost_of_project(\"Charlie+Denver\", True)\n",
    "print(project_one)\n",
    "\n",
    "project_two = cost_of_project(\"08/10/2000\", False)\n",
    "print(project_two)"
   ]
  },
  {
   "attachments": {
    "1b09dc81-087e-4603-8b6b-9c5016374b25.png": {
     "image/png": "[encoded data removed]"
    }
   },
   "cell_type": "markdown",
   "id": "84d71acf-05ae-4949-b0fe-e53c9a46ec4a",
   "metadata": {
    "jp-MarkdownHeadingCollapsed": true
   },
   "source": [
    "# Conditional Statements (if-elif-else) - Basics\n",
    "![image.png](attachment:1b09dc81-087e-4603-8b6b-9c5016374b25.png)\n"
   ]
  },
  {
   "cell_type": "code",
   "execution_count": 50,
   "id": "3e5915ae-2d6f-45d7-bbf9-b8b64958ab2a",
   "metadata": {},
   "outputs": [
    {
     "name": "stdout",
     "output_type": "stream",
     "text": [
      "Ex1:  False\n",
      "Ex2:  True\n",
      "Ex3:  True\n",
      "Ex4:  False\n",
      "Ex5:  True\n"
     ]
    }
   ],
   "source": [
    "''' \n",
    "Conditions are statements that are either True or False.\n",
    "\n",
    "Comparison Operations: \n",
    "Symbol\tMeaning\n",
    "==   \tequals\n",
    "!=  \tdoes not equal\n",
    "<   \tless than\n",
    "<=  \tless than or equal to\n",
    ">   \tgreater than\n",
    ">=  \tgreater than or equal to\n",
    "\n",
    "'''\n",
    "\n",
    "var_one = 1\n",
    "var_two = 2\n",
    "\n",
    "print(\"Ex1: \", var_one < 1)\n",
    "print(\"Ex2: \", var_two >= var_one)\n",
    "print(\"Ex3: \", 3.0 == 3)\n",
    "print(\"Ex4: \", '3' == 3)\n",
    "print(\"Ex5: \", True or True and False)\n",
    "\n",
    "## Without parentheses\n",
    "# prepared_for_weather = have_umbrella or rain_level < 5 and have_hood or not rain_level > 0 and is_workday\n",
    "\n",
    "## With parentheses - for more readability\n",
    "# prepared_for_weather = have_umbrella or (rain_level < 5 and have_hood) or not (rain_level > 0 and is_workday)\n",
    "\n",
    "## With MORE parentheses - for EVEN more readability\n",
    "# prepared_for_weather = have_umbrella or ((rain_level < 5) and have_hood) or (not (rain_level > 0 and is_workday))\n",
    "\n",
    "## Use multiple lines for more readability\n",
    "# prepared_for_weather = (\n",
    "#     have_umbrella \n",
    "#     or ((rain_level < 5) and have_hood) \n",
    "#     or (not (rain_level > 0 and is_workday))\n",
    "# )"
   ]
  },
  {
   "cell_type": "markdown",
   "id": "6fa7746c-8e49-4c20-8c73-cc03550b1423",
   "metadata": {},
   "source": [
    "#### \"if\" statements"
   ]
  },
  {
   "cell_type": "code",
   "execution_count": 62,
   "id": "7e200d55-73e6-40d3-aa25-bf124562fa88",
   "metadata": {},
   "outputs": [
    {
     "name": "stdout",
     "output_type": "stream",
     "text": [
      "Normal temperature.\n",
      "Fever!\n"
     ]
    }
   ],
   "source": [
    "# Conditional statements\n",
    "\n",
    "# \"if\" statements\n",
    "def evaluate_temp(temp):\n",
    "    # Set an initial message\n",
    "    message = \"Normal temperature.\"\n",
    "    # Update value of message only if temperature greater than 38\n",
    "    if temp > 38:\n",
    "        message = \"Fever!\"\n",
    "    return message\n",
    "\n",
    "print(evaluate_temp(37))\n",
    "print(evaluate_temp(39))"
   ]
  },
  {
   "cell_type": "code",
   "execution_count": 85,
   "id": "888c8703-4463-4453-bd1a-16035d3d46b1",
   "metadata": {},
   "outputs": [
    {
     "name": "stdout",
     "output_type": "stream",
     "text": [
      "Always printed, regardless of x's value; x = 0\n",
      "None\n",
      "Only printed when x is positive; x = 1\n",
      "Also only printed when x is positive; x = 1\n",
      "Always printed, regardless of x's value; x = 1\n",
      "None\n",
      "Only printed when x is positive; x = 2\n",
      "Also only printed when x is positive; x = 2\n",
      "Always printed, regardless of x's value; x = 2\n",
      "None \n",
      "\n",
      "\n",
      "Always printed, regardless of x's value; x =0\n",
      "\n",
      "Only printed when x is positive; x = 1\n",
      "Also only printed when x is positive; x = 1\n",
      "Always printed, regardless of x's value; x =1\n",
      "\n",
      "Only printed when x is positive; x = 2\n",
      "Also only printed when x is positive; x = 2\n",
      "Always printed, regardless of x's value; x =2\n"
     ]
    }
   ],
   "source": [
    "# Use proper indentation (tabs)\n",
    "\n",
    "def f(x):\n",
    "    if x > 0:\n",
    "        print(\"Only printed when x is positive; x =\", x)\n",
    "        print(\"Also only printed when x is positive; x =\", x)\n",
    "    print(\"Always printed, regardless of x's value; x =\", x)\n",
    "\n",
    "print(f(0))\n",
    "print(f(1))\n",
    "print(f(2), \"\\n\\n\")\n",
    "\n",
    "'''\n",
    "- The print(f(x)) prints whatever f(x) returns — but f() returns None by default.\n",
    "- If a function doesn't explicitly return something with a \"return\" statement, it returns \"None\" by default after each function call.\n",
    "- Inside f, the if x > 0: block is only executed for x = 1 and x = 2.\n",
    "- The last print in f always runs.\n",
    "'''\n",
    "\n",
    "def f(x):\n",
    "    if x > 0:\n",
    "        print(\"\\nOnly printed when x is positive; x =\", x)\n",
    "        print(\"Also only printed when x is positive; x =\", x)\n",
    "    return f\"Always printed, regardless of x's value; x ={x}\"\n",
    "\n",
    "print(f(0))\n",
    "print(f(1))\n",
    "print(f(2))\n"
   ]
  },
  {
   "cell_type": "code",
   "execution_count": 60,
   "id": "3e71ea00-00c6-406d-b66f-739b2a2a2846",
   "metadata": {},
   "outputs": [],
   "source": [
    "# Basic Example 1\n",
    "def add_three_or_eight(number):\n",
    "    if number < 10:\n",
    "        result = number + 3\n",
    "    else:\n",
    "        result = number + 8\n",
    "    return result"
   ]
  },
  {
   "cell_type": "code",
   "execution_count": 40,
   "id": "89cd9638-c832-449d-9b81-34ceade7d35e",
   "metadata": {},
   "outputs": [
    {
     "name": "stdout",
     "output_type": "stream",
     "text": [
      "Can a 19-year-old run for president? False\n",
      "Can a 45-year-old run for president? True\n"
     ]
    }
   ],
   "source": [
    "# Basic Example 2\n",
    "\n",
    "def can_run_for_president(age):\n",
    "    \"\"\"Can someone of the given age run for president in the US?\"\"\"\n",
    "    # The US Constitution says you must be at least 35 years old\n",
    "    return age >= 35\n",
    "\n",
    "print(\"Can a 19-year-old run for president?\", can_run_for_president(19))\n",
    "print(\"Can a 45-year-old run for president?\", can_run_for_president(45))"
   ]
  },
  {
   "cell_type": "code",
   "execution_count": null,
   "id": "dc87da4e-3962-48fc-b140-93aefcb1c4df",
   "metadata": {},
   "outputs": [],
   "source": [
    "# Basic Example 3\n",
    "\n",
    "def is_odd(n):\n",
    "    return (n % 2) == 1\n",
    "\n",
    "print(\"Is 100 odd?\", is_odd(100))\n",
    "print(\"Is -1 odd?\", is_odd(-1))"
   ]
  },
  {
   "cell_type": "code",
   "execution_count": 43,
   "id": "2fdc9410-2a75-495b-9f09-69bba40c2046",
   "metadata": {},
   "outputs": [
    {
     "name": "stdout",
     "output_type": "stream",
     "text": [
      "False\n",
      "False\n",
      "True\n"
     ]
    }
   ],
   "source": [
    "def can_run_for_president(age, is_natural_born_citizen):\n",
    "    \"\"\"Can someone of the given age and citizenship status run for president in the US?\"\"\"\n",
    "    # The US Constitution says you must be a natural born citizen *and* at least 35 years old\n",
    "    return is_natural_born_citizen and (age >= 35)\n",
    "\n",
    "print(can_run_for_president(19, True))\n",
    "print(can_run_for_president(55, False))\n",
    "print(can_run_for_president(55, True))"
   ]
  },
  {
   "cell_type": "markdown",
   "id": "26b11118-ab63-4692-93c6-541af311be5c",
   "metadata": {},
   "source": [
    "#### \"if ... else\" statements"
   ]
  },
  {
   "cell_type": "code",
   "execution_count": null,
   "id": "78a9ae6e-263b-476f-881a-57e44f400724",
   "metadata": {},
   "outputs": [],
   "source": [
    "# \"if ... else\" statements\n",
    "def evaluate_temp_with_else(temp):\n",
    "    if temp > 38:\n",
    "        message = \"Fever!\"\n",
    "    else:\n",
    "        message = \"Normal temperature.\"\n",
    "    return message\n",
    "\n",
    "print(evaluate_temp_with_else(37))"
   ]
  },
  {
   "cell_type": "code",
   "execution_count": 88,
   "id": "7d02207c-eb3b-47bf-be44-220fb07f20d3",
   "metadata": {},
   "outputs": [
    {
     "name": "stdout",
     "output_type": "stream",
     "text": [
      "spam\n"
     ]
    }
   ],
   "source": [
    "# Basic Example: \n",
    "if 0:\n",
    "    print(0)\n",
    "elif \"spam\":\n",
    "    print(\"spam\")"
   ]
  },
  {
   "cell_type": "code",
   "execution_count": 33,
   "id": "577b75b0-5c2e-49c5-a9c1-0bf646b482e2",
   "metadata": {},
   "outputs": [
    {
     "data": {
      "text/plain": [
       "'Low temperature.'"
      ]
     },
     "execution_count": 33,
     "metadata": {},
     "output_type": "execute_result"
    }
   ],
   "source": [
    "# \"if ... elif ... else\" statements\n",
    "def evaluate_temp_with_elif(temp):\n",
    "    if temp > 38:\n",
    "        message = \"Fever!\"\n",
    "    elif temp > 35:\n",
    "        message = \"Normal temperature.\"\n",
    "    else:\n",
    "        message = \"Low temperature.\"\n",
    "    return message\n",
    "\n",
    "evaluate_temp_with_elif(36)\n",
    "evaluate_temp_with_elif(34)"
   ]
  },
  {
   "cell_type": "code",
   "execution_count": 51,
   "id": "83d5491f-8221-48d6-ae3b-8cb7b2bb54ae",
   "metadata": {},
   "outputs": [
    {
     "name": "stdout",
     "output_type": "stream",
     "text": [
      "0 is zero\n",
      "-15 is negative\n"
     ]
    }
   ],
   "source": [
    "# Example: \n",
    "def inspect(x):\n",
    "    if x == 0:\n",
    "        print(x, \"is zero\")\n",
    "    elif x > 0:\n",
    "        print(x, \"is positive\")\n",
    "    elif x < 0:\n",
    "        print(x, \"is negative\")\n",
    "    else:\n",
    "        print(x, \"is unlike anything I've ever seen...\")\n",
    "\n",
    "inspect(0)\n",
    "inspect(-15)"
   ]
  },
  {
   "cell_type": "code",
   "execution_count": 34,
   "id": "95263fc3-8fca-4107-a54f-587a3c7c163c",
   "metadata": {},
   "outputs": [
    {
     "name": "stdout",
     "output_type": "stream",
     "text": [
      "5\n"
     ]
    }
   ],
   "source": [
    "def get_dose(weight):\n",
    "    # Dosage is 1.25 ml for anyone under 5.2 kg\n",
    "    if weight < 5.2:\n",
    "        dose = 1.25\n",
    "    elif weight < 7.9:\n",
    "        dose = 2.5\n",
    "    elif weight < 10.4:\n",
    "        dose = 3.75\n",
    "    elif weight < 15.9:\n",
    "        dose = 5\n",
    "    elif weight < 21.2:\n",
    "        dose = 7.5\n",
    "    # Dosage is 10 ml for anyone 21.2 kg or over\n",
    "    else:\n",
    "        dose = 10\n",
    "    return dose\n",
    "\n",
    "print(get_dose(12))"
   ]
  },
  {
   "cell_type": "code",
   "execution_count": 36,
   "id": "6041e0e3-ffb6-439e-ae51-d0558789ce7e",
   "metadata": {},
   "outputs": [],
   "source": [
    "# Exercise 1\n",
    "\n",
    "def get_grade(score):\n",
    "    if score >= 90:\n",
    "        grade = \"A\"\n",
    "    elif score >= 80:\n",
    "        grade = \"B\"\n",
    "    elif score >= 70:\n",
    "        grade = \"C\"\n",
    "    elif score >= 60:\n",
    "        grade = \"D\"\n",
    "    else:\n",
    "        grade = \"F\"\n",
    "    return grade"
   ]
  },
  {
   "cell_type": "code",
   "execution_count": 37,
   "id": "70a97a41-9ab5-40e4-b637-eff9c398f92e",
   "metadata": {},
   "outputs": [],
   "source": [
    "# Exercise 2\n",
    "\n",
    "def cost_of_project(engraving, solid_gold):\n",
    "    if solid_gold == True:\n",
    "        cost = 100 + len(engraving) * 10 \n",
    "    else:\n",
    "        cost = 50 + len(engraving) * 7\n",
    "    return cost"
   ]
  },
  {
   "cell_type": "code",
   "execution_count": 38,
   "id": "a383cdec-6eea-40d4-b632-cff203ac6c43",
   "metadata": {},
   "outputs": [],
   "source": [
    "# Exercise 3:\n",
    "# TODO: Edit the function to return the correct bill for different values of num_gallons\n",
    "\n",
    "def get_water_bill(num_gallons):\n",
    "    \n",
    "    if num_gallons > 30000: \n",
    "        bill = 10 * num_gallons / 1000\n",
    "    elif num_gallons > 22000: \n",
    "        bill = 7 * num_gallons / 1000\n",
    "    elif num_gallons > 8000: \n",
    "        bill = 6 * num_gallons / 1000\n",
    "    else:\n",
    "        bill = 5 * num_gallons / 1000\n",
    "\n",
    "    return bill"
   ]
  },
  {
   "cell_type": "code",
   "execution_count": 39,
   "id": "b570de89-0afe-4ea4-b77e-3fa9d4759603",
   "metadata": {},
   "outputs": [],
   "source": [
    "# Exercise 4: \n",
    "# TODO: Edit the function to return the correct bill for different values of GB\n",
    "\n",
    "def get_phone_bill(gb):\n",
    "    \n",
    "    if gb <= 15:\n",
    "        bill = 100\n",
    "    else:\n",
    "        bill = 100 + ( (gb - 15) * 100) \n",
    "        \n",
    "    return bill"
   ]
  },
  {
   "cell_type": "markdown",
   "id": "9feef2b5-1170-441a-8779-7936617dfd6a",
   "metadata": {},
   "source": [
    "## Functions with Conditional Statements - Intermediate"
   ]
  },
  {
   "cell_type": "code",
   "execution_count": null,
   "id": "2cdfd20f-4420-4c3f-b8c1-13658e21d23e",
   "metadata": {},
   "outputs": [],
   "source": [
    "def get_taxes(earnings):\n",
    "    if earnings < 12000:\n",
    "        tax_owed = .25 * earnings\n",
    "    else:\n",
    "        tax_owed = .30 * earnings\n",
    "    return tax_owed"
   ]
  },
  {
   "cell_type": "code",
   "execution_count": null,
   "id": "44b89ccf-f5e5-48d2-8de0-6bf72a954771",
   "metadata": {},
   "outputs": [],
   "source": [
    "ana_taxes = get_taxes(9000)\n",
    "bob_taxes = get_taxes(15000)\n",
    "\n",
    "print(ana_taxes)\n",
    "print(bob_taxes)"
   ]
  },
  {
   "cell_type": "markdown",
   "id": "7702a29a-3faa-4ad3-9b06-8ca229718350",
   "metadata": {},
   "source": [
    "### Exercise: Kaggle: Python 2"
   ]
  },
  {
   "cell_type": "code",
   "execution_count": null,
   "id": "c37498a3-e72e-42ce-9d4f-c7bb5294b4ec",
   "metadata": {},
   "outputs": [],
   "source": [
    "# Exercise 1\n",
    "\n",
    "# Your code goes here. Define a function called 'sign'\n",
    "\n",
    "def sign(num):\n",
    "    if num > 0:\n",
    "        return 1\n",
    "    elif num < 0:\n",
    "        return -1\n",
    "    else:\n",
    "        return 0"
   ]
  },
  {
   "cell_type": "code",
   "execution_count": 91,
   "id": "b526749a-b392-491e-bc99-306fd17a0522",
   "metadata": {},
   "outputs": [
    {
     "name": "stdout",
     "output_type": "stream",
     "text": [
      "Splitting 91 candies\n",
      "Splitting 1 candies\n"
     ]
    },
    {
     "data": {
      "text/plain": [
       "1"
      ]
     },
     "execution_count": 91,
     "metadata": {},
     "output_type": "execute_result"
    }
   ],
   "source": [
    "# Exercise 2.1\n",
    "\n",
    "def to_smash(total_candies):\n",
    "    \"\"\"Return the number of leftover candies that must be smashed after distributing the given number of candies evenly between 3 friends.\n",
    "    \n",
    "    >>> to_smash(91)\n",
    "    1\n",
    "    \"\"\"\n",
    "    print(\"Splitting\", total_candies, \"candies\")\n",
    "    return total_candies % 3\n",
    "\n",
    "to_smash(91)\n",
    "to_smash(1)"
   ]
  },
  {
   "cell_type": "code",
   "execution_count": 92,
   "id": "e220239a-fe10-4345-9d33-42d14d65dd3f",
   "metadata": {},
   "outputs": [
    {
     "name": "stdout",
     "output_type": "stream",
     "text": [
      "Splitting 91 candies\n",
      "Splitting 1 candy\n"
     ]
    },
    {
     "data": {
      "text/plain": [
       "1"
      ]
     },
     "execution_count": 92,
     "metadata": {},
     "output_type": "execute_result"
    }
   ],
   "source": [
    "# Exercise 2.2\n",
    "\n",
    "def to_smash(total_candies):\n",
    "\n",
    "    if total_candies == 1:\n",
    "        print(\"Splitting 1 candy\")\n",
    "    else:\n",
    "        print(\"Splitting\", total_candies, \"candies\")\n",
    "    \n",
    "    return total_candies % 3\n",
    "\n",
    "to_smash(91)\n",
    "to_smash(1)"
   ]
  },
  {
   "cell_type": "code",
   "execution_count": 93,
   "id": "f2ebc580-50f9-4098-b0da-e39467f424d2",
   "metadata": {},
   "outputs": [
    {
     "name": "stdout",
     "output_type": "stream",
     "text": [
      "False\n"
     ]
    }
   ],
   "source": [
    "# Exercise 2.3\n",
    "\n",
    "def prepared_for_weather(have_umbrella, rain_level, have_hood, is_workday):\n",
    "    # Don't change this code. Our goal is just to find the bug, not fix it!\n",
    "    return have_umbrella or rain_level < 5 and have_hood or not rain_level > 0 and is_workday\n",
    "\n",
    "# Change the values of these inputs so they represent a case where prepared_for_weather\n",
    "# returns the wrong answer.\n",
    "have_umbrella = False\n",
    "rain_level = 0.0\n",
    "have_hood = False\n",
    "is_workday = False\n",
    "\n",
    "# Check what the function returns given the current values of the variables above\n",
    "actual = prepared_for_weather(have_umbrella, rain_level, have_hood, is_workday)\n",
    "print(actual)"
   ]
  },
  {
   "cell_type": "code",
   "execution_count": 94,
   "id": "b73d6766-6e0c-4769-99ff-518f16f7430b",
   "metadata": {},
   "outputs": [],
   "source": [
    "# Exercise 2.4\n",
    "\n",
    "def is_negative(number):\n",
    "    if number < 0:\n",
    "        return True\n",
    "    else:\n",
    "        return False\n",
    "\n",
    "def concise_is_negative(number):\n",
    "    return number < 0"
   ]
  },
  {
   "cell_type": "code",
   "execution_count": 96,
   "id": "5dd78024-02d5-487c-a45f-54f32582bf40",
   "metadata": {},
   "outputs": [],
   "source": [
    "# Exercise 2.5.1\n",
    "\n",
    "def onionless(ketchup, mustard, onion):\n",
    "    \"\"\"\n",
    "        Return whether the customer doesn't want onions.\n",
    "    \"\"\"\n",
    "    return not onion\n",
    "\n",
    "def wants_all_toppings(ketchup, mustard, onion):\n",
    "    \"\"\"\n",
    "        Return whether the customer wants \"the works\" (all 3 toppings)\n",
    "    \"\"\"\n",
    "    return ketchup and mustard and onion"
   ]
  },
  {
   "cell_type": "code",
   "execution_count": 98,
   "id": "fa29a04d-6df8-40fe-b43c-b9fa8cf325b2",
   "metadata": {},
   "outputs": [],
   "source": [
    "# Exercise 2.5.2\n",
    "\n",
    "def wants_plain_hotdog(ketchup, mustard, onion):\n",
    "    \"\"\"\n",
    "        Return whether the customer wants a plain hot dog with no toppings.\n",
    "    \"\"\"\n",
    "    return not(ketchup or mustard or onion)"
   ]
  },
  {
   "cell_type": "code",
   "execution_count": 99,
   "id": "134b0cbe-313b-4a67-9c09-e9c7052af13c",
   "metadata": {},
   "outputs": [],
   "source": [
    "# Exercise 2.5.3\n",
    "\n",
    "def exactly_one_sauce(ketchup, mustard, onion):\n",
    "    \"\"\"\n",
    "        Return whether the customer wants either ketchup or mustard, but not both.\n",
    "        (You may be familiar with this operation under the name \"exclusive or\")\n",
    "    \"\"\"\n",
    "    return (ketchup or mustard) and not (ketchup and mustard)  "
   ]
  },
  {
   "cell_type": "code",
   "execution_count": 101,
   "id": "939ea97d-441f-4f18-8df1-55109f2d230a",
   "metadata": {},
   "outputs": [],
   "source": [
    "# Exercise 2.6\n",
    "def exactly_one_topping(ketchup, mustard, onion):\n",
    "    \"\"\"\n",
    "        Return whether the customer wants exactly one of the three available toppings\n",
    "        on their hot dog.\n",
    "    \"\"\"\n",
    "    return (ketchup + mustard + onion) == 1"
   ]
  },
  {
   "cell_type": "markdown",
   "id": "be1d2e43-4181-4f2b-8031-606362636c5f",
   "metadata": {},
   "source": [
    "# Lists"
   ]
  },
  {
   "cell_type": "markdown",
   "id": "e4392161-67db-4cb0-8a94-64d83a7ddb9a",
   "metadata": {
    "jp-MarkdownHeadingCollapsed": true
   },
   "source": [
    "## Lists - Basics"
   ]
  },
  {
   "cell_type": "code",
   "execution_count": 102,
   "id": "ee22c1c0-fcb8-428c-ae5e-5e144a4bc302",
   "metadata": {},
   "outputs": [
    {
     "name": "stdout",
     "output_type": "stream",
     "text": [
      "<class 'str'>\n",
      "pink primrose,hard-leaved pocket orchid,canterbury bells,sweet pea,english marigold,tiger lily,moon orchid,bird of paradise,monkshood,globe thistle\n"
     ]
    }
   ],
   "source": [
    "flowers = \"pink primrose,hard-leaved pocket orchid,canterbury bells,sweet pea,english marigold,tiger lily,moon orchid,bird of paradise,monkshood,globe thistle\"\n",
    "\n",
    "print(type(flowers))\n",
    "print(flowers)"
   ]
  },
  {
   "cell_type": "code",
   "execution_count": 105,
   "id": "f16c6a3d-bf0e-45cd-9067-31387984fc76",
   "metadata": {},
   "outputs": [
    {
     "name": "stdout",
     "output_type": "stream",
     "text": [
      "<class 'list'>\n",
      "['pink primrose', 'hard-leaved pocket orchid', 'canterbury bells', 'sweet pea', 'english marigold', 'tiger lily', 'moon orchid', 'bird of paradise', 'monkshood', 'globe thistle']\n"
     ]
    },
    {
     "data": {
      "text/plain": [
       "'\\nBenefits of lists over strings \\n\\n- get an item at a specified position (first, second, third, etc),\\n- check the number of items, and\\n- add and remove items.\\n'"
      ]
     },
     "execution_count": 105,
     "metadata": {},
     "output_type": "execute_result"
    }
   ],
   "source": [
    "flowers_list = [\"pink primrose\", \"hard-leaved pocket orchid\", \"canterbury bells\", \"sweet pea\", \"english marigold\", \"tiger lily\", \"moon orchid\", \"bird of paradise\", \"monkshood\", \"globe thistle\"]\n",
    "\n",
    "print(type(flowers_list))\n",
    "print(flowers_list)"
   ]
  },
  {
   "cell_type": "markdown",
   "id": "b027e6f1-2be2-47ee-a9e3-1b8ddc3dfa88",
   "metadata": {},
   "source": [
    "**Benefits of lists over strings**\n",
    "\n",
    "- get an item at a specified position (first, second, third, etc),\n",
    "- check the number of items, and\n",
    "- add and remove items."
   ]
  },
  {
   "cell_type": "code",
   "execution_count": 107,
   "id": "5ea41882-ec69-465b-a9d6-83e370749d28",
   "metadata": {},
   "outputs": [
    {
     "name": "stdout",
     "output_type": "stream",
     "text": [
      "10\n"
     ]
    }
   ],
   "source": [
    "# Length\n",
    "\n",
    "# The list has ten entries\n",
    "print(len(flowers_list))"
   ]
  },
  {
   "cell_type": "markdown",
   "id": "592434a4-79d5-4de2-896e-f08e130163ae",
   "metadata": {},
   "source": [
    "**Note that Python uses zero-based indexing, which means that:**\n",
    "\n",
    "- to pull the first entry in the list, you use 0,\n",
    "- to pull the second entry in the list, you use 1, and\n",
    "- to pull the final entry in the list, you use one less than the length of the list."
   ]
  },
  {
   "cell_type": "code",
   "execution_count": 108,
   "id": "e2ea2f3f-a9a1-4545-84d6-7ee76db88f5e",
   "metadata": {},
   "outputs": [
    {
     "name": "stdout",
     "output_type": "stream",
     "text": [
      "First entry: pink primrose\n",
      "Second entry: hard-leaved pocket orchid\n",
      "Last entry: globe thistle\n"
     ]
    }
   ],
   "source": [
    "# Indexing\n",
    "\n",
    "print(\"First entry:\", flowers_list[0])\n",
    "print(\"Second entry:\", flowers_list[1])\n",
    "\n",
    "# The list has length ten, so we refer to final entry with 9\n",
    "print(\"Last entry:\", flowers_list[9])"
   ]
  },
  {
   "cell_type": "code",
   "execution_count": 109,
   "id": "098f1abf-9fbd-46bb-9930-8f09c8aaa5f7",
   "metadata": {},
   "outputs": [
    {
     "name": "stdout",
     "output_type": "stream",
     "text": [
      "First three entries: ['pink primrose', 'hard-leaved pocket orchid', 'canterbury bells']\n",
      "Final two entries: ['monkshood', 'globe thistle']\n"
     ]
    }
   ],
   "source": [
    "# Slicing\n",
    "\n",
    "print(\"First three entries:\", flowers_list[:3])\n",
    "print(\"Final two entries:\", flowers_list[-2:])"
   ]
  },
  {
   "cell_type": "markdown",
   "id": "40b2ca5f-12a8-42b0-8445-0b3f49e6977f",
   "metadata": {},
   "source": [
    "**Slicing:**\n",
    "- to pull the first x entries, you use [$ $:x], and\n",
    "- to pull the last y entries, you use [-y: ]."
   ]
  },
  {
   "cell_type": "code",
   "execution_count": 110,
   "id": "2980327c-00b1-4634-a453-1172c9220cb7",
   "metadata": {},
   "outputs": [
    {
     "name": "stdout",
     "output_type": "stream",
     "text": [
      "['pink primrose', 'hard-leaved pocket orchid', 'canterbury bells', 'sweet pea', 'english marigold', 'tiger lily', 'moon orchid', 'bird of paradise', 'monkshood']\n"
     ]
    }
   ],
   "source": [
    "# Removing items\n",
    "\n",
    "flowers_list.remove(\"globe thistle\")\n",
    "print(flowers_list)"
   ]
  },
  {
   "cell_type": "code",
   "execution_count": 111,
   "id": "480b2da9-d2ff-4498-abda-3b27b53cbcd2",
   "metadata": {},
   "outputs": [
    {
     "name": "stdout",
     "output_type": "stream",
     "text": [
      "['pink primrose', 'hard-leaved pocket orchid', 'canterbury bells', 'sweet pea', 'english marigold', 'tiger lily', 'moon orchid', 'bird of paradise', 'monkshood', 'snapdragon']\n"
     ]
    }
   ],
   "source": [
    "# Adding items\n",
    "\n",
    "flowers_list.append(\"snapdragon\")\n",
    "print(flowers_list)"
   ]
  },
  {
   "cell_type": "code",
   "execution_count": 113,
   "id": "3b968e45-8e74-4c49-959b-ea87db5f5cc9",
   "metadata": {},
   "outputs": [
    {
     "name": "stdout",
     "output_type": "stream",
     "text": [
      "Length of the list: 7\n",
      "Entry at index 2: 172\n",
      "Minimum: 128\n",
      "Maximum: 191\n",
      "Total books sold in one week: 1107\n",
      "Average books sold in first five days: 153.8\n"
     ]
    }
   ],
   "source": [
    "# Lists are not just for strings\n",
    "\n",
    "hardcover_sales = [139, 128, 172, 139, 191, 168, 170]\n",
    "\n",
    "print(\"Length of the list:\", len(hardcover_sales))\n",
    "print(\"Entry at index 2:\", hardcover_sales[2])\n",
    "\n",
    "print(\"Minimum:\", min(hardcover_sales))\n",
    "print(\"Maximum:\", max(hardcover_sales))\n",
    "\n",
    "print(\"Total books sold in one week:\", sum(hardcover_sales))\n",
    "\n",
    "print(\"Average books sold in first five days:\", sum(hardcover_sales[:5])/5)"
   ]
  },
  {
   "cell_type": "code",
   "execution_count": null,
   "id": "86df5cd0-0d4a-4fe0-bd7f-35a65a4fb99e",
   "metadata": {},
   "outputs": [],
   "source": [
    "# Exercise 1: \n",
    "menu = ['stewed meat with onions', 'bean soup', 'risotto with trout and shrimp',\n",
    "       'fish soup with cream and onion', 'gyro']\n",
    "\n",
    "# TODO: remove 'bean soup', and add 'roasted beet salad' to the end of the menu\n",
    "menu.remove('bean soup')\n",
    "menu.append('roasted beet salad')"
   ]
  },
  {
   "cell_type": "code",
   "execution_count": null,
   "id": "37e2ea93-ac07-4982-ac42-2504e057826a",
   "metadata": {},
   "outputs": [],
   "source": [
    "# Exercise 2:\n",
    "num_customers = [137, 147, 135, 128, 170, 174, 165, 146, 126, 159,\n",
    "                 141, 148, 132, 147, 168, 153, 170, 161, 148, 152,\n",
    "                 141, 151, 131, 149, 164, 163, 143, 143, 166, 171]\n",
    "\n",
    "# TODO: Fill in values for the variables below\n",
    "avg_first_seven = sum(num_customers[:7])/7\n",
    "avg_last_seven = sum(num_customers[-7:])/7 \n",
    "max_month = max(num_customers)\n",
    "min_month = min(num_customers)"
   ]
  },
  {
   "cell_type": "code",
   "execution_count": 114,
   "id": "4f550e5c-7508-4b99-bcc8-50829a02ea1b",
   "metadata": {},
   "outputs": [
    {
     "name": "stdout",
     "output_type": "stream",
     "text": [
      "['pink primrose', 'hard-leaved pocket orchid', 'canterbury bells', 'sweet pea', 'english marigold', 'tiger lily', 'moon orchid', 'bird of paradise', 'monkshood', 'globe thistle']\n"
     ]
    }
   ],
   "source": [
    "# Exercise 3.1: \n",
    "flowers = \"pink primrose,hard-leaved pocket orchid,canterbury bells,sweet pea,english marigold,tiger lily,moon orchid,bird of paradise,monkshood,globe thistle\"\n",
    "\n",
    "print(flowers.split(\",\"))\n",
    "\n",
    "# Exercise 3.2: \n",
    "alphabet = \"A.B.C.D.E.F.G.H.I.J.K.L.M.N.O.P.Q.R.S.T.U.V.W.X.Y.Z\"\n",
    "address = \"Mr. H. Potter,The cupboard under the Stairs,4 Privet Drive,Little Whinging,Surrey\"\n",
    "\n",
    "# TODO: Convert strings into Python lists\n",
    "letters = alphabet.split('.')\n",
    "formatted_address = address.split(',')"
   ]
  },
  {
   "cell_type": "code",
   "execution_count": 122,
   "id": "af4c80a7-8bbd-4a56-bf06-d7d4cf3890e6",
   "metadata": {},
   "outputs": [
    {
     "name": "stdout",
     "output_type": "stream",
     "text": [
      "[False, False, False, True, True]\n",
      "4\n",
      "8\n"
     ]
    },
    {
     "data": {
      "text/plain": [
       "0.5"
      ]
     },
     "execution_count": 122,
     "metadata": {},
     "output_type": "execute_result"
    }
   ],
   "source": [
    "# Exercise 4:\n",
    "test_ratings = [1, 2, 3, 4, 5]\n",
    "\n",
    "test_liked = [i>=4 for i in test_ratings]\n",
    "print(test_liked)\n",
    "\n",
    "def percentage_liked(ratings):\n",
    "    list_liked = [i>=4 for i in ratings]\n",
    "    # TODO: Complete the function\n",
    "    print(sum(list_liked))\n",
    "    print(len(list_liked))\n",
    "\n",
    "    percentage_liked = sum(list_liked)/len(list_liked)\n",
    "    return percentage_liked\n",
    "\n",
    "# Do not change: should return 0.5\n",
    "percentage_liked([1, 2, 3, 4, 5, 4, 5, 1])   # [False, False, False, True, True, True, True, False]"
   ]
  },
  {
   "cell_type": "code",
   "execution_count": 123,
   "id": "6948bdba-bee2-460e-bcc3-a531f1262863",
   "metadata": {},
   "outputs": [
    {
     "name": "stdout",
     "output_type": "stream",
     "text": [
      "0.03629533421163837\n",
      "0.6615639847417742\n"
     ]
    }
   ],
   "source": [
    "# Exercise 5:\n",
    "def percentage_growth(num_users, yrs_ago):\n",
    "    growth = (num_users[len(num_users)-1] - num_users[len(num_users)-yrs_ago-1])/num_users[len(num_users)-yrs_ago-1]\n",
    "    return growth\n",
    "\n",
    "# Do not change: Variable for calculating some test examples\n",
    "num_users_test = [920344, 1043553, 1204334, 1458996, 1503323, 1593432, 1623463, 1843064, 1930992, 2001078]\n",
    "\n",
    "# Do not change: Should return .036\n",
    "print(percentage_growth(num_users_test, 1))\n",
    "\n",
    "# Do not change: Should return 0.66\n",
    "print(percentage_growth(num_users_test, 7))"
   ]
  },
  {
   "cell_type": "markdown",
   "id": "4e12aa0c-2b8a-4867-8ca7-254dab5eb0c2",
   "metadata": {
    "jp-MarkdownHeadingCollapsed": true
   },
   "source": [
    "## Lists - Intermediate"
   ]
  },
  {
   "cell_type": "markdown",
   "id": "40c6186e-7929-498e-acac-42c74a6a6f4f",
   "metadata": {},
   "source": [
    "### Tutorial"
   ]
  },
  {
   "cell_type": "code",
   "execution_count": 124,
   "id": "765ff255-8b72-4bd2-9c22-3e7dc5783f04",
   "metadata": {},
   "outputs": [],
   "source": [
    "primes = [2, 3, 5, 7]\n",
    "planets = ['Mercury', 'Venus', 'Earth', 'Mars', 'Jupiter', 'Saturn', 'Uranus', 'Neptune']"
   ]
  },
  {
   "cell_type": "code",
   "execution_count": 125,
   "id": "5bd63581-a682-439f-8082-79538c5eb9ab",
   "metadata": {},
   "outputs": [],
   "source": [
    "hands = [\n",
    "    ['J', 'Q', 'K'],\n",
    "    ['2', '2', '2'],\n",
    "    ['6', 'A', 'K'], # (Comma after the last element is optional)\n",
    "]\n",
    "# (I could also have written this on one line, but it can get hard to read)\n",
    "hands = [['J', 'Q', 'K'], ['2', '2', '2'], ['6', 'A', 'K']]"
   ]
  },
  {
   "cell_type": "code",
   "execution_count": 126,
   "id": "74794990-d2e5-4297-b036-60dc8e26eccd",
   "metadata": {},
   "outputs": [],
   "source": [
    "my_favourite_things = [32, 'raindrops on roses', help]"
   ]
  },
  {
   "cell_type": "markdown",
   "id": "cf3db8af-d9e1-4cd1-bade-9fd7f6915c89",
   "metadata": {
    "jp-MarkdownHeadingCollapsed": true
   },
   "source": [
    "#### Indexing"
   ]
  },
  {
   "cell_type": "code",
   "execution_count": 136,
   "id": "337af356-f104-4843-ad62-de63d2232277",
   "metadata": {},
   "outputs": [
    {
     "name": "stdout",
     "output_type": "stream",
     "text": [
      "planets[0] Mercury\n",
      "planets[1] Venus\n",
      "planets[-1] Neptune\n",
      "planets[-2] Uranus\n"
     ]
    }
   ],
   "source": [
    "# Indexing\n",
    "planets = ['Mercury', 'Venus', 'Earth', 'Mars', 'Jupiter', 'Saturn', 'Uranus', 'Neptune']\n",
    "\n",
    "print(\"planets[0]\", planets[0])\n",
    "print(\"planets[1]\", planets[1])\n",
    "print(\"planets[-1]\", planets[-1])\n",
    "print(\"planets[-2]\", planets[-2])"
   ]
  },
  {
   "cell_type": "markdown",
   "id": "87bb1d24-d325-48af-ba99-38ed8be31b0a",
   "metadata": {
    "jp-MarkdownHeadingCollapsed": true
   },
   "source": [
    "#### Slicing"
   ]
  },
  {
   "cell_type": "code",
   "execution_count": 137,
   "id": "dc9b1181-1d8f-4bfe-aafd-dac433ddfda8",
   "metadata": {},
   "outputs": [
    {
     "name": "stdout",
     "output_type": "stream",
     "text": [
      "planets[0:3]  ['Mercury', 'Venus', 'Earth']\n",
      "planets[:3] ['Mercury', 'Venus', 'Earth']\n",
      "planets[3:] ['Mars', 'Jupiter', 'Saturn', 'Uranus', 'Neptune']\n",
      "planets[1:-1] ['Venus', 'Earth', 'Mars', 'Jupiter', 'Saturn', 'Uranus']\n",
      "planets[-3:] ['Saturn', 'Uranus', 'Neptune']\n"
     ]
    }
   ],
   "source": [
    "# Slicing\n",
    "print(\"planets[0:3] \", planets[0:3])\n",
    "print(\"planets[:3]\", planets[:3])\n",
    "print(\"planets[3:]\", planets[3:])\n",
    "\n",
    "# All the planets except the first and last\n",
    "print(\"planets[1:-1]\", planets[1:-1])\n",
    "\n",
    "# The last 3 planets\n",
    "print(\"planets[-3:]\", planets[-3:])\n",
    "# print(\"\", )\n"
   ]
  },
  {
   "cell_type": "markdown",
   "id": "11f0fd29-8072-41b5-a552-53e4e483be03",
   "metadata": {
    "jp-MarkdownHeadingCollapsed": true
   },
   "source": [
    "#### Changing Lists"
   ]
  },
  {
   "cell_type": "code",
   "execution_count": 138,
   "id": "f41112d1-d670-41be-bec0-e6231674fa85",
   "metadata": {},
   "outputs": [
    {
     "data": {
      "text/plain": [
       "['Mercury',\n",
       " 'Venus',\n",
       " 'Earth',\n",
       " 'Malacandra',\n",
       " 'Jupiter',\n",
       " 'Saturn',\n",
       " 'Uranus',\n",
       " 'Neptune']"
      ]
     },
     "execution_count": 138,
     "metadata": {},
     "output_type": "execute_result"
    }
   ],
   "source": [
    "planets[3] = 'Malacandra'\n",
    "planets"
   ]
  },
  {
   "cell_type": "code",
   "execution_count": 139,
   "id": "fef463fd-8c00-4b34-93b5-7ce7942469fe",
   "metadata": {},
   "outputs": [
    {
     "name": "stdout",
     "output_type": "stream",
     "text": [
      "['Mur', 'Vee', 'Ur', 'Malacandra', 'Jupiter', 'Saturn', 'Uranus', 'Neptune']\n"
     ]
    }
   ],
   "source": [
    "planets[:3] = ['Mur', 'Vee', 'Ur']\n",
    "print(planets)\n",
    "\n",
    "# That was silly. Let's give them back their old names\n",
    "planets[:4] = ['Mercury', 'Venus', 'Earth', 'Mars',]"
   ]
  },
  {
   "cell_type": "markdown",
   "id": "46462e5d-6a20-4f11-979d-d7dd6f83fbc1",
   "metadata": {
    "jp-MarkdownHeadingCollapsed": true
   },
   "source": [
    "#### List Functions"
   ]
  },
  {
   "cell_type": "code",
   "execution_count": 140,
   "id": "8b7f1fb0-445f-4c72-bd1c-b83d25a5dd1d",
   "metadata": {},
   "outputs": [
    {
     "data": {
      "text/plain": [
       "8"
      ]
     },
     "execution_count": 140,
     "metadata": {},
     "output_type": "execute_result"
    }
   ],
   "source": [
    "# len gives the length of a list:\n",
    "len(planets)      # How many planets are there?"
   ]
  },
  {
   "cell_type": "code",
   "execution_count": 141,
   "id": "9fd44fc7-28b6-4fa5-acd9-4970759d9d50",
   "metadata": {},
   "outputs": [
    {
     "data": {
      "text/plain": [
       "['Earth', 'Jupiter', 'Mars', 'Mercury', 'Neptune', 'Saturn', 'Uranus', 'Venus']"
      ]
     },
     "execution_count": 141,
     "metadata": {},
     "output_type": "execute_result"
    }
   ],
   "source": [
    "# sorted returns a sorted version of a list:\n",
    "sorted(planets)   # The planets sorted in alphabetical order"
   ]
  },
  {
   "cell_type": "code",
   "execution_count": 142,
   "id": "a274a24b-ab48-4bfc-9746-9e9a0b6cd162",
   "metadata": {},
   "outputs": [
    {
     "data": {
      "text/plain": [
       "17"
      ]
     },
     "execution_count": 142,
     "metadata": {},
     "output_type": "execute_result"
    }
   ],
   "source": [
    "# sum does what you might expect:\n",
    "primes = [2, 3, 5, 7]\n",
    "sum(primes)"
   ]
  },
  {
   "cell_type": "code",
   "execution_count": 143,
   "id": "afa4da87-6565-4d3c-8858-bd4e90682dae",
   "metadata": {},
   "outputs": [
    {
     "data": {
      "text/plain": [
       "7"
      ]
     },
     "execution_count": 143,
     "metadata": {},
     "output_type": "execute_result"
    }
   ],
   "source": [
    "max(primes)"
   ]
  },
  {
   "cell_type": "code",
   "execution_count": 144,
   "id": "7b8687e6-f9f7-4943-b311-7887808fe357",
   "metadata": {},
   "outputs": [
    {
     "name": "stdout",
     "output_type": "stream",
     "text": [
      "0\n",
      "3.0\n"
     ]
    }
   ],
   "source": [
    "# Interlude: objects\n",
    "x = 12\n",
    "# x is a real number, so its imaginary part is 0.\n",
    "print(x.imag)\n",
    "# Here's how to make a complex number, in case you've ever been curious:\n",
    "c = 12 + 3j\n",
    "print(c.imag)"
   ]
  },
  {
   "cell_type": "code",
   "execution_count": 145,
   "id": "54f2b563-bde7-4401-9414-954f30083580",
   "metadata": {},
   "outputs": [
    {
     "data": {
      "text/plain": [
       "<function int.bit_length()>"
      ]
     },
     "execution_count": 145,
     "metadata": {},
     "output_type": "execute_result"
    }
   ],
   "source": [
    "x.bit_length"
   ]
  },
  {
   "cell_type": "code",
   "execution_count": 146,
   "id": "2ec1cfec-54f1-487a-b2ab-b623180db256",
   "metadata": {},
   "outputs": [
    {
     "data": {
      "text/plain": [
       "4"
      ]
     },
     "execution_count": 146,
     "metadata": {},
     "output_type": "execute_result"
    }
   ],
   "source": [
    "x.bit_length()"
   ]
  },
  {
   "cell_type": "code",
   "execution_count": 147,
   "id": "53d63806-b1b3-49ed-a2e5-b129f87e8a8f",
   "metadata": {},
   "outputs": [
    {
     "name": "stdout",
     "output_type": "stream",
     "text": [
      "Help on built-in function bit_length:\n",
      "\n",
      "bit_length() method of builtins.int instance\n",
      "    Number of bits necessary to represent self in binary.\n",
      "\n",
      "    >>> bin(37)\n",
      "    '0b100101'\n",
      "    >>> (37).bit_length()\n",
      "    6\n",
      "\n"
     ]
    }
   ],
   "source": [
    "help(x.bit_length)"
   ]
  },
  {
   "cell_type": "markdown",
   "id": "94a63073-ff4f-490d-af9b-0f1e769c1d9b",
   "metadata": {
    "jp-MarkdownHeadingCollapsed": true
   },
   "source": [
    "#### List methods"
   ]
  },
  {
   "cell_type": "code",
   "execution_count": 152,
   "id": "4d5b78b5-b3a7-431e-83b5-7ed77d9d852b",
   "metadata": {},
   "outputs": [
    {
     "name": "stdout",
     "output_type": "stream",
     "text": [
      "['Mercury', 'Venus', 'Earth', 'Mars', 'Jupiter', 'Saturn', 'Uranus', 'Neptune']\n",
      "['Mercury', 'Venus', 'Earth', 'Mars', 'Jupiter', 'Saturn', 'Uranus', 'Neptune', 'Pluto']\n"
     ]
    }
   ],
   "source": [
    "# list.append modifies a list by adding an item to the end:\n",
    "planets = ['Mercury', 'Venus', 'Earth', 'Mars', 'Jupiter', 'Saturn', 'Uranus', 'Neptune']\n",
    "print(planets)\n",
    "\n",
    "planets.append('Pluto')\n",
    "print(planets)"
   ]
  },
  {
   "cell_type": "code",
   "execution_count": 153,
   "id": "f0abec8d-1bb6-4137-9e3e-7b54eded7901",
   "metadata": {},
   "outputs": [
    {
     "name": "stdout",
     "output_type": "stream",
     "text": [
      "Help on built-in function append:\n",
      "\n",
      "append(object, /) method of builtins.list instance\n",
      "    Append object to the end of the list.\n",
      "\n"
     ]
    }
   ],
   "source": [
    "help(planets.append)"
   ]
  },
  {
   "cell_type": "code",
   "execution_count": 159,
   "id": "bf9f9d7a-1e41-44bb-b151-e8f2c1a5f106",
   "metadata": {},
   "outputs": [
    {
     "data": {
      "text/plain": [
       "'Neptune'"
      ]
     },
     "execution_count": 159,
     "metadata": {},
     "output_type": "execute_result"
    }
   ],
   "source": [
    "# list.pop removes and returns the last element of a list:\n",
    "planets = ['Mercury', 'Venus', 'Earth', 'Mars', 'Jupiter', 'Saturn', 'Uranus', 'Neptune']\n",
    "\n",
    "planets.pop()"
   ]
  },
  {
   "cell_type": "markdown",
   "id": "cdbbfdb8-d507-4216-b508-bef7bf9eba50",
   "metadata": {
    "jp-MarkdownHeadingCollapsed": true
   },
   "source": [
    "#### Searching lists"
   ]
  },
  {
   "cell_type": "code",
   "execution_count": 160,
   "id": "81aa646c-192a-4ec6-8502-bd7c1c61b973",
   "metadata": {},
   "outputs": [
    {
     "data": {
      "text/plain": [
       "2"
      ]
     },
     "execution_count": 160,
     "metadata": {},
     "output_type": "execute_result"
    }
   ],
   "source": [
    "# list.index outputs the list index\n",
    "planets = ['Mercury', 'Venus', 'Earth', 'Mars', 'Jupiter', 'Saturn', 'Uranus', 'Neptune']\n",
    "\n",
    "planets.index('Earth')"
   ]
  },
  {
   "cell_type": "code",
   "execution_count": 161,
   "id": "be23d54c-bd7c-4513-8063-d13394c14fbe",
   "metadata": {},
   "outputs": [
    {
     "data": {
      "text/plain": [
       "True"
      ]
     },
     "execution_count": 161,
     "metadata": {},
     "output_type": "execute_result"
    }
   ],
   "source": [
    "# in operator to determine whether a list contains a particular value:\n",
    "# Is Earth a planet?\n",
    "planets = ['Mercury', 'Venus', 'Earth', 'Mars', 'Jupiter', 'Saturn', 'Uranus', 'Neptune']\n",
    "\n",
    "\"Earth\" in planets"
   ]
  },
  {
   "cell_type": "code",
   "execution_count": 162,
   "id": "62aff80f-655d-4701-8f32-4a3fce3967dd",
   "metadata": {},
   "outputs": [
    {
     "data": {
      "text/plain": [
       "False"
      ]
     },
     "execution_count": 162,
     "metadata": {},
     "output_type": "execute_result"
    }
   ],
   "source": [
    "# Is Calbefraques a planet?\n",
    "planets = ['Mercury', 'Venus', 'Earth', 'Mars', 'Jupiter', 'Saturn', 'Uranus', 'Neptune']\n",
    "\n",
    "\"Calbefraques\" in planets"
   ]
  },
  {
   "cell_type": "markdown",
   "id": "3365ac6c-741e-448d-ad61-1465d9986aa5",
   "metadata": {
    "jp-MarkdownHeadingCollapsed": true
   },
   "source": [
    "### List Exercise "
   ]
  },
  {
   "cell_type": "code",
   "execution_count": 178,
   "id": "a4e5eba1-1501-4c0f-bc73-306b0067278b",
   "metadata": {},
   "outputs": [],
   "source": [
    "# Exercise 1\n",
    "def select_second(L):\n",
    "    \"\"\"\n",
    "    Return the second element of the given list. \n",
    "    If the list has no second element, return None.\n",
    "    \"\"\"\n",
    "    if len(L) < 2:\n",
    "        return None\n",
    "    else:\n",
    "        return L[1] "
   ]
  },
  {
   "cell_type": "code",
   "execution_count": 177,
   "id": "14fb295e-8e59-42cc-9322-1f36779e5db9",
   "metadata": {},
   "outputs": [],
   "source": [
    "# Exercise 2\n",
    "def losing_team_captain(teams):\n",
    "    \"\"\"Given a list of teams, where each team is a list of names, return the 2nd player (captain)\n",
    "    from the last listed team\n",
    "    \"\"\"\n",
    "    return teams[-1][1]"
   ]
  },
  {
   "cell_type": "code",
   "execution_count": 176,
   "id": "910780c5-96f4-4d7d-8add-3df24f23d1a3",
   "metadata": {},
   "outputs": [],
   "source": [
    "# Exercise 3\n",
    "def purple_shell(racers):\n",
    "    \"\"\"Given a list of racers, set the first place racer (at the front of the list) to last\n",
    "    place and vice versa.\n",
    "    \n",
    "    >>> r = [\"Mario\", \"Bowser\", \"Luigi\"]\n",
    "    >>> purple_shell(r)\n",
    "    >>> r\n",
    "    [\"Luigi\", \"Bowser\", \"Mario\"]\n",
    "    \"\"\"\n",
    "    temp = racers[0]\n",
    "    racers[0] = racers[-1]\n",
    "    racers[-1] = temp"
   ]
  },
  {
   "cell_type": "code",
   "execution_count": 175,
   "id": "356d84f8-21c2-4093-8668-9fb34f5a7ab4",
   "metadata": {},
   "outputs": [],
   "source": [
    "# Exercise 4\n",
    "a = [1, 2, 3]\n",
    "b = [1, [2, 3]]\n",
    "c = []\n",
    "d = [1, 2, 3][1:]\n",
    "\n",
    "# Put your predictions in the list below. Lengths should contain 4 numbers, the\n",
    "# first being the length of a, the second being the length of b and so on.\n",
    "lengths = [3, 2, 0, 2]\n"
   ]
  },
  {
   "cell_type": "code",
   "execution_count": 180,
   "id": "610d5d31-4ea6-4dcb-8970-b175bdc59e91",
   "metadata": {},
   "outputs": [],
   "source": [
    "# Exercise 5\n",
    "def fashionably_late(arrivals, name):\n",
    "    \"\"\"Given an ordered list of arrivals to the party and a name, return whether the guest with that\n",
    "    name was fashionably late.\n",
    "    \"\"\"\n",
    "    def fashionably_late(arrivals, name):\n",
    "        order = arrivals.index(name)\n",
    "    return order >= len(arrivals) / 2 and order != len(arrivals) - 1"
   ]
  },
  {
   "cell_type": "markdown",
   "id": "5c1f772d-b272-4ece-9ee2-c368bfd75c37",
   "metadata": {
    "jp-MarkdownHeadingCollapsed": true,
    "scrolled": true
   },
   "source": [
    "## Tuples"
   ]
  },
  {
   "cell_type": "markdown",
   "id": "5895d171-c1c9-47ce-8630-6573ae757869",
   "metadata": {},
   "source": [
    "**Tuples are almost exactly the same as lists. They differ in just two ways.**\n",
    "\n",
    "1. The syntax for creating them uses parentheses instead of square brackets\n",
    "2. They cannot be modified (they are immutable)."
   ]
  },
  {
   "cell_type": "code",
   "execution_count": 165,
   "id": "9e499b65-a72a-4c0f-9bef-694deee0f6ea",
   "metadata": {},
   "outputs": [
    {
     "data": {
      "text/plain": [
       "(1, 2, 3)"
      ]
     },
     "execution_count": 165,
     "metadata": {},
     "output_type": "execute_result"
    }
   ],
   "source": [
    "# 1. The syntax for creating them uses parentheses instead of square brackets\n",
    "t = (1, 2, 3)\n",
    "t \n",
    "\n",
    "# Equivalent to t = 1, 2, 3 "
   ]
  },
  {
   "cell_type": "code",
   "execution_count": 167,
   "id": "0a584c7b-548e-4af3-97ec-2088d87261da",
   "metadata": {},
   "outputs": [],
   "source": [
    "# 2: They cannot be modified (they are immutable)\n",
    "# t[0] = 100 \n",
    "\n",
    "# This will returns TypeError"
   ]
  },
  {
   "cell_type": "markdown",
   "id": "e8326ef8-a8fb-43bf-976b-fe11f2c7f19d",
   "metadata": {},
   "source": [
    "**Tuples are often used for functions that have multiple return values.**"
   ]
  },
  {
   "cell_type": "code",
   "execution_count": 168,
   "id": "90312d93-c645-41fa-b24a-8c1fefd8bfdb",
   "metadata": {},
   "outputs": [
    {
     "data": {
      "text/plain": [
       "(1, 8)"
      ]
     },
     "execution_count": 168,
     "metadata": {},
     "output_type": "execute_result"
    }
   ],
   "source": [
    "# as_integer_ratio() method of float objects returns a numerator and a denominator in the form of a tuple:\n",
    "    \n",
    "x = 0.125\n",
    "x.as_integer_ratio()"
   ]
  },
  {
   "cell_type": "code",
   "execution_count": 170,
   "id": "4b6144dd-a304-46ee-bd61-80f4f8a4d26e",
   "metadata": {},
   "outputs": [
    {
     "name": "stdout",
     "output_type": "stream",
     "text": [
      "numerator 1\n",
      "denominator 8\n",
      "0.125\n"
     ]
    }
   ],
   "source": [
    "# These multiple return values can be individually assigned as follows:\n",
    "numerator, denominator = x.as_integer_ratio()\n",
    "\n",
    "print(\"numerator\", numerator)\n",
    "print(\"denominator\", denominator)\n",
    "\n",
    "print(numerator / denominator)"
   ]
  },
  {
   "cell_type": "code",
   "execution_count": 171,
   "id": "a5688a05-278a-4b72-9e96-475012a696bf",
   "metadata": {},
   "outputs": [
    {
     "name": "stdout",
     "output_type": "stream",
     "text": [
      "0 1\n"
     ]
    }
   ],
   "source": [
    "a = 1\n",
    "b = 0\n",
    "a, b = b, a\n",
    "print(a, b)"
   ]
  },
  {
   "cell_type": "markdown",
   "id": "2807e6de-624d-4d2e-bc99-cc2ddb07a8ba",
   "metadata": {},
   "source": [
    "# Loop and List Comprehension"
   ]
  },
  {
   "cell_type": "markdown",
   "id": "24d82530-64b0-45ce-ab42-48182160fe15",
   "metadata": {
    "jp-MarkdownHeadingCollapsed": true
   },
   "source": [
    "### Loop"
   ]
  },
  {
   "cell_type": "code",
   "execution_count": 181,
   "id": "b7e00878-dcbe-4530-a471-8b1302124cec",
   "metadata": {},
   "outputs": [
    {
     "name": "stdout",
     "output_type": "stream",
     "text": [
      "Mercury Venus Earth Mars Jupiter Saturn Uranus Neptune "
     ]
    }
   ],
   "source": [
    "planets = ['Mercury', 'Venus', 'Earth', 'Mars', 'Jupiter', 'Saturn', 'Uranus', 'Neptune']\n",
    "for planet in planets:\n",
    "    print(planet, end=' ') # print all on same line"
   ]
  },
  {
   "cell_type": "markdown",
   "id": "c2a535be-d079-4d7a-aff0-54a2a43c7819",
   "metadata": {},
   "source": [
    "**The for loop specifies**\n",
    "- the variable name to use (in this case, planet)\n",
    "- the set of values to loop over (in this case, planets)\n",
    "\n",
    "The object to the right of the \"in\" can be any object that supports iteration. Basically, if it can be thought of as a group of things, you can probably loop over it.\n",
    "\n",
    "Can iterate in both **list** and **tuple**."
   ]
  },
  {
   "cell_type": "code",
   "execution_count": 182,
   "id": "ce0c65a5-a728-4fbf-ac5e-970cf823ed38",
   "metadata": {},
   "outputs": [
    {
     "data": {
      "text/plain": [
       "360"
      ]
     },
     "execution_count": 182,
     "metadata": {},
     "output_type": "execute_result"
    }
   ],
   "source": [
    "multiplicands = (2, 2, 2, 3, 3, 5)\n",
    "product = 1\n",
    "for mult in multiplicands:\n",
    "    product = product * mult\n",
    "product"
   ]
  },
  {
   "cell_type": "code",
   "execution_count": 206,
   "id": "63f6ca60-2178-48e4-b735-3b07d54fbe4f",
   "metadata": {},
   "outputs": [
    {
     "name": "stdout",
     "output_type": "stream",
     "text": [
      "HELLO"
     ]
    }
   ],
   "source": [
    "# Loop through each character in a string:\n",
    "\n",
    "s = 'steganograpHy is the practicE of conceaLing a file, message, image, or video within another fiLe, message, image, Or video.'\n",
    "\n",
    "# print all the uppercase letters in s, one at a time\n",
    "for char in s:\n",
    "    if char.isupper():\n",
    "        # print(char)\n",
    "        print(char, end='')    # by default end = '\\n'"
   ]
  },
  {
   "cell_type": "code",
   "execution_count": 207,
   "id": "f345e6b7-277e-49e3-8573-467e2063013b",
   "metadata": {},
   "outputs": [
    {
     "name": "stdout",
     "output_type": "stream",
     "text": [
      "Doing important work. i = 0\n",
      "Doing important work. i = 1\n",
      "Doing important work. i = 2\n",
      "Doing important work. i = 3\n",
      "Doing important work. i = 4\n"
     ]
    },
    {
     "data": {
      "text/plain": [
       "range(0, 5)"
      ]
     },
     "execution_count": 207,
     "metadata": {},
     "output_type": "execute_result"
    }
   ],
   "source": [
    "# range() = Function that returns a sequence of numbers. It turns out to be very useful for writing loops\n",
    "\n",
    "for i in range(5):\n",
    "    print(\"Doing important work. i =\", i)\n",
    "\n",
    "range(5)"
   ]
  },
  {
   "cell_type": "code",
   "execution_count": 208,
   "id": "f7229839-d3d8-425b-b9ec-18fd60069622",
   "metadata": {},
   "outputs": [
    {
     "name": "stdout",
     "output_type": "stream",
     "text": [
      "0 1 2 3 4 5 6 7 8 9 "
     ]
    }
   ],
   "source": [
    "# while loops\n",
    "\n",
    "i = 0\n",
    "while i < 10:\n",
    "    print(i, end=' ')\n",
    "    i += 1 # increase the value of i by 1"
   ]
  },
  {
   "cell_type": "markdown",
   "id": "614cd3dd-2a82-46c7-bfd1-25c54524467b",
   "metadata": {
    "jp-MarkdownHeadingCollapsed": true
   },
   "source": [
    "### List comprehensions"
   ]
  },
  {
   "cell_type": "code",
   "execution_count": 190,
   "id": "ee9dc9c9-ba81-49b4-a23d-4cded65c113b",
   "metadata": {},
   "outputs": [
    {
     "data": {
      "text/plain": [
       "[0, 1, 4, 9, 16, 25, 36, 49, 64, 81]"
      ]
     },
     "execution_count": 190,
     "metadata": {},
     "output_type": "execute_result"
    }
   ],
   "source": [
    "squares = [n**2 for n in range(10)]\n",
    "squares"
   ]
  },
  {
   "cell_type": "code",
   "execution_count": 209,
   "id": "8f0722e8-7716-4774-a455-e935d3ecfb30",
   "metadata": {},
   "outputs": [
    {
     "data": {
      "text/plain": [
       "[0, 1, 4, 9, 16, 25, 36, 49, 64, 81]"
      ]
     },
     "execution_count": 209,
     "metadata": {},
     "output_type": "execute_result"
    }
   ],
   "source": [
    "squares = []\n",
    "for n in range(10):\n",
    "    squares.append(n**2)\n",
    "squares"
   ]
  },
  {
   "cell_type": "code",
   "execution_count": 215,
   "id": "73c11daf-b3d7-4eef-a75b-e002f8ff3efb",
   "metadata": {},
   "outputs": [
    {
     "data": {
      "text/plain": [
       "['Venus', 'Earth', 'Mars']"
      ]
     },
     "execution_count": 215,
     "metadata": {},
     "output_type": "execute_result"
    }
   ],
   "source": [
    "# We can also add an if condition:\n",
    "planets = ['Mercury', 'Venus', 'Earth', 'Mars', 'Jupiter', 'Saturn', 'Uranus', 'Neptune']\n",
    "\n",
    "# short_planets = []\n",
    "# for planet in planets:\n",
    "#     if len(planet) < 6:\n",
    "#         short_planets.append(planet)\n",
    "\n",
    "\n",
    "# len(planet) = Length of string in the \"planets\" list \n",
    "short_planets = [planet for planet in planets if len(planet) < 6]\n",
    "short_planets"
   ]
  },
  {
   "cell_type": "code",
   "execution_count": 216,
   "id": "abf7a699-099b-4c34-9292-a25a926604c5",
   "metadata": {},
   "outputs": [
    {
     "data": {
      "text/plain": [
       "['VENUS!', 'EARTH!', 'MARS!']"
      ]
     },
     "execution_count": 216,
     "metadata": {},
     "output_type": "execute_result"
    }
   ],
   "source": [
    "# (If you're familiar with SQL, you might think of this as being like a \"WHERE\" clause)\n",
    "# str.upper() returns an all-caps version of a string\n",
    "\n",
    "loud_short_planets = [planet.upper() + '!' for planet in planets if len(planet) < 6]\n",
    "loud_short_planets"
   ]
  },
  {
   "cell_type": "code",
   "execution_count": 217,
   "id": "9fb6be29-33ac-4d6b-8534-bf25950770ff",
   "metadata": {},
   "outputs": [
    {
     "data": {
      "text/plain": [
       "['VENUS!', 'EARTH!', 'MARS!']"
      ]
     },
     "execution_count": 217,
     "metadata": {},
     "output_type": "execute_result"
    }
   ],
   "source": [
    "# People usually write these on a single line, but you might find the structure clearer when it's split up over 3 lines:\n",
    "\n",
    "[\n",
    "    planet.upper() + '!' \n",
    "    for planet in planets \n",
    "    if len(planet) < 6\n",
    "]"
   ]
  },
  {
   "cell_type": "code",
   "execution_count": 218,
   "id": "7dea2fee-0518-4500-8cdb-731c38cbb07c",
   "metadata": {},
   "outputs": [
    {
     "data": {
      "text/plain": [
       "[32, 32, 32, 32, 32, 32, 32, 32]"
      ]
     },
     "execution_count": 218,
     "metadata": {},
     "output_type": "execute_result"
    }
   ],
   "source": [
    "# SQL analogy, you could think of these three lines as SELECT, FROM, and WHERE\n",
    "[32 for planet in planets]\n",
    "\n",
    "# [i.append() for i in planets]"
   ]
  },
  {
   "cell_type": "code",
   "execution_count": 239,
   "id": "e0ff08b4-f500-413b-b0a4-aef0f604fb91",
   "metadata": {},
   "outputs": [
    {
     "name": "stdout",
     "output_type": "stream",
     "text": [
      "2\n",
      "2\n",
      "2\n",
      "2\n"
     ]
    }
   ],
   "source": [
    "# Return the number of negative numbers in the given list.\n",
    "\n",
    "def count_negatives_1(nums):\n",
    "    n_negative = 0\n",
    "    for num in nums:\n",
    "        if num < 0:\n",
    "            n_negative = n_negative + 1\n",
    "    return n_negative\n",
    "\n",
    "def count_negatives_2(nums):\n",
    "    # return len([-1, -2])\n",
    "    return len([num for num in nums if num < 0])\n",
    "\n",
    "def count_negatives_3(nums):\n",
    "    # = sum([5<0, -1<0, -2<0, 0<0, 3<0]])\n",
    "    # = sum([False, True, True, False, False])\n",
    "    # = sum(0, 1, 1, 0, 0) \n",
    "    # = 2\n",
    "    return sum([num < 0 for num in nums])\n",
    "\n",
    "print(count_negatives_1([5, -1, -2, 0, 3]))\n",
    "print(count_negatives_2([5, -1, -2, 0, 3]))\n",
    "print(count_negatives_3([5, -1, -2, 0, 3]))\n",
    "\n",
    "print(len([-1, -2]))"
   ]
  },
  {
   "cell_type": "markdown",
   "id": "b137fb7b-f970-4220-90a2-a3092da057a1",
   "metadata": {},
   "source": [
    "### Loops & List Comprehension: Exercise "
   ]
  },
  {
   "cell_type": "code",
   "execution_count": 242,
   "id": "d444485b-6798-432e-ba68-464a37182934",
   "metadata": {},
   "outputs": [
    {
     "data": {
      "text/plain": [
       "True"
      ]
     },
     "execution_count": 242,
     "metadata": {},
     "output_type": "execute_result"
    }
   ],
   "source": [
    "# Exercise 1\n",
    "def has_lucky_number(nums):\n",
    "    \"\"\"Return whether the given list of numbers is lucky. A lucky list contains\n",
    "    at least one number divisible by 7.\n",
    "    \"\"\"\n",
    "    for num in nums:\n",
    "        if num % 7 == 0:\n",
    "            return True\n",
    "    return False\n",
    "\n",
    "def has_lucky_number(nums):\n",
    "    \"\"\"Return whether the given list of numbers is lucky. A lucky list contains\n",
    "    at least one number divisible by 7.\n",
    "    \"\"\"\n",
    "    # return causes a function to exit immediately.\n",
    "    for num in nums:\n",
    "        if num % 7 == 0:\n",
    "            return True\n",
    "\n",
    "    return False\n",
    "    \n",
    "# Loop 1: ไม่ว่า True or False --> Loop breaks by return\n",
    "            \n",
    "has_lucky_number([10, 2, 7])"
   ]
  },
  {
   "cell_type": "code",
   "execution_count": 251,
   "id": "bbee0561-8d70-492e-9782-472e1a1f7f1a",
   "metadata": {},
   "outputs": [
    {
     "name": "stdout",
     "output_type": "stream",
     "text": [
      "True\n",
      "[False, False, True, True]\n",
      "[False, False, True, True]\n"
     ]
    }
   ],
   "source": [
    "# Exercise 2\n",
    "\n",
    "print(len([1, 2, 3, 4]) > 2)\n",
    "\n",
    "\"\"\"\n",
    "    Return a list with the same length as L, where the value at index i is \n",
    "    True if L[i] is greater than thresh, and False otherwise.\n",
    "\"\"\"\n",
    "def elementwise_greater_than_1(L, thresh):\n",
    "    result = []\n",
    "    for i in L:\n",
    "        result.append(i > thresh)\n",
    "    return result\n",
    "\n",
    "\n",
    "# List comprehension version:\n",
    "def elementwise_greater_than_2(L, thresh):\n",
    "    return [i > thresh for i in L]\n",
    "\n",
    "# Result = [False, False, True, True]\n",
    "print(elementwise_greater_than_1([1, 2, 3, 4], 2))\n",
    "print(elementwise_greater_than_2([1, 2, 3, 4], 2))"
   ]
  },
  {
   "cell_type": "code",
   "execution_count": 310,
   "id": "f0f4ccf1-f7e8-4abf-a27e-031203e4a262",
   "metadata": {},
   "outputs": [
    {
     "name": "stdout",
     "output_type": "stream",
     "text": [
      "False \n",
      "\n",
      "2\n",
      "True \n",
      "\n",
      "False \n",
      "\n"
     ]
    }
   ],
   "source": [
    "# Exercise 3\n",
    "\"\"\"\n",
    "    Given a list of meals served over some period of time, return True if the\n",
    "    same meal has ever been served two days in a row, and False otherwise.\n",
    "\"\"\"\n",
    "def menu_is_boring(meals):\n",
    "    list_of_bools=[]\n",
    "    for i in range(len(meals)-1):     # range(0, len(meals)) e.g. range(0, 2) and range(0, 6)\n",
    "        if meals[i] == meals[i+1]:\n",
    "            print(i)\n",
    "            return True\n",
    "        # print(i)    \n",
    "    return False\n",
    "\n",
    "print(menu_is_boring(['Egg', 'Spam']), \"\\n\")\n",
    "print(menu_is_boring(['Spam', 'Eggs', 'Spam', 'Spam', 'Bacon', 'Spam']), \"\\n\")\n",
    "print(menu_is_boring(['Spam', 'Eggs', 'Bacon', 'Spam']), \"\\n\")\n"
   ]
  },
  {
   "cell_type": "markdown",
   "id": "23b61d2c-919d-4cc6-9c74-1883d4df3c47",
   "metadata": {},
   "source": [
    "# Strings & Dictionaries"
   ]
  },
  {
   "cell_type": "markdown",
   "id": "1d17e11f-fb8b-4c1d-813f-bc5dd1ad928b",
   "metadata": {},
   "source": [
    "## Tutorial"
   ]
  },
  {
   "cell_type": "markdown",
   "id": "6bc6088e-b878-4adf-b3f9-46dcb32b7f71",
   "metadata": {
    "jp-MarkdownHeadingCollapsed": true
   },
   "source": [
    "### Strings"
   ]
  },
  {
   "cell_type": "code",
   "execution_count": 363,
   "id": "59690e47-1bc3-4e25-81f0-2bb5184071e7",
   "metadata": {},
   "outputs": [
    {
     "name": "stdout",
     "output_type": "stream",
     "text": [
      "Pluto's a planet!\n",
      "My dog is named \"Pluto\"\n"
     ]
    }
   ],
   "source": [
    "x = 'Pluto is a planet'\n",
    "y = \"Pluto is a planet\"\n",
    "x == y\n",
    "\n",
    "print(\"Pluto's a planet!\")\n",
    "print('My dog is named \"Pluto\"')"
   ]
  },
  {
   "cell_type": "code",
   "execution_count": 362,
   "id": "b8082dc3-2ca0-4aea-8d63-d37465f1287a",
   "metadata": {},
   "outputs": [
    {
     "name": "stdout",
     "output_type": "stream",
     "text": [
      "hello\n",
      "world\n"
     ]
    }
   ],
   "source": [
    "# Debugging: 'Pluto's a planet!'\n",
    "'Pluto\\'s a planet!'\n",
    "\n",
    "hello = \"hello\\nworld\"\n",
    "print(hello)"
   ]
  },
  {
   "cell_type": "code",
   "execution_count": 364,
   "id": "a1805c3c-ff1b-449d-8999-e56ca62902e7",
   "metadata": {},
   "outputs": [
    {
     "name": "stdout",
     "output_type": "stream",
     "text": [
      "hello\n",
      "world\n"
     ]
    },
    {
     "data": {
      "text/plain": [
       "True"
      ]
     },
     "execution_count": 364,
     "metadata": {},
     "output_type": "execute_result"
    }
   ],
   "source": [
    "triplequoted_hello = \"\"\"hello\n",
    "world\"\"\"\n",
    "print(triplequoted_hello)\n",
    "triplequoted_hello == hello"
   ]
  },
  {
   "cell_type": "code",
   "execution_count": 365,
   "id": "ac23983d-2c3a-4881-8407-ae1e4526d06f",
   "metadata": {},
   "outputs": [
    {
     "name": "stdout",
     "output_type": "stream",
     "text": [
      "hello\n",
      "world\n",
      "hellopluto"
     ]
    }
   ],
   "source": [
    "print(\"hello\")\n",
    "print(\"world\")\n",
    "print(\"hello\", end='')\n",
    "print(\"pluto\", end='')"
   ]
  },
  {
   "cell_type": "markdown",
   "id": "395deeb4-7cc1-4f5e-891f-9e1c3257006d",
   "metadata": {
    "jp-MarkdownHeadingCollapsed": true
   },
   "source": [
    "#### String are sequences"
   ]
  },
  {
   "cell_type": "code",
   "execution_count": 366,
   "id": "526e5d9f-74c7-4013-93f8-e5573fe22a45",
   "metadata": {},
   "outputs": [
    {
     "data": {
      "text/plain": [
       "'P'"
      ]
     },
     "execution_count": 366,
     "metadata": {},
     "output_type": "execute_result"
    }
   ],
   "source": [
    "# Indexing\n",
    "planet = 'Pluto'\n",
    "planet[0]"
   ]
  },
  {
   "cell_type": "code",
   "execution_count": null,
   "id": "d6e955bc-e040-4d7a-b18c-dcbb72ae67bc",
   "metadata": {},
   "outputs": [],
   "source": [
    "# Slicing\n",
    "planet[-3:]"
   ]
  },
  {
   "cell_type": "code",
   "execution_count": null,
   "id": "6c20cfc7-ca18-4bf8-9c1e-f598eb06c6f4",
   "metadata": {},
   "outputs": [],
   "source": [
    "# How long is this string?\n",
    "len(planet)"
   ]
  },
  {
   "cell_type": "code",
   "execution_count": null,
   "id": "3af03236-6e58-4847-85f8-af5ecb859489",
   "metadata": {},
   "outputs": [],
   "source": [
    "# Yes, we can even loop over them\n",
    "[char+'! ' for char in planet]"
   ]
  },
  {
   "cell_type": "code",
   "execution_count": null,
   "id": "e25dbf76-51ab-4d5b-9870-8c88beeb38b9",
   "metadata": {},
   "outputs": [],
   "source": [
    "# planet[0] = 'B'\n",
    "# planet.append doesn't work either"
   ]
  },
  {
   "cell_type": "markdown",
   "id": "7faed376-6132-4d93-9d77-237bc49e85df",
   "metadata": {},
   "source": [
    "#### String methods"
   ]
  },
  {
   "cell_type": "code",
   "execution_count": 369,
   "id": "54b4fa5a-b66a-4cef-9f65-acfc87706148",
   "metadata": {},
   "outputs": [
    {
     "data": {
      "text/plain": [
       "'PLUTO IS A PLANET!'"
      ]
     },
     "execution_count": 369,
     "metadata": {},
     "output_type": "execute_result"
    }
   ],
   "source": [
    "# ALL CAPS\n",
    "claim = \"Pluto is a planet!\"\n",
    "claim.upper()"
   ]
  },
  {
   "cell_type": "code",
   "execution_count": 370,
   "id": "f00e1bdd-7334-4156-9132-85c96a973986",
   "metadata": {},
   "outputs": [
    {
     "data": {
      "text/plain": [
       "'pluto is a planet!'"
      ]
     },
     "execution_count": 370,
     "metadata": {},
     "output_type": "execute_result"
    }
   ],
   "source": [
    "# all lowercase\n",
    "claim.lower()"
   ]
  },
  {
   "cell_type": "code",
   "execution_count": 371,
   "id": "13489440-d4cd-44c6-a180-7bec0978a83f",
   "metadata": {},
   "outputs": [
    {
     "data": {
      "text/plain": [
       "11"
      ]
     },
     "execution_count": 371,
     "metadata": {},
     "output_type": "execute_result"
    }
   ],
   "source": [
    "# Searching for the first index of a substring\n",
    "claim.index('plan')"
   ]
  },
  {
   "cell_type": "code",
   "execution_count": 372,
   "id": "305b484f-a9eb-4ff7-ab06-ecb1511fcc19",
   "metadata": {},
   "outputs": [
    {
     "data": {
      "text/plain": [
       "True"
      ]
     },
     "execution_count": 372,
     "metadata": {},
     "output_type": "execute_result"
    }
   ],
   "source": [
    "claim.startswith(planet)"
   ]
  },
  {
   "cell_type": "code",
   "execution_count": 373,
   "id": "6546d358-577a-4d71-96a6-81de2bd5213d",
   "metadata": {},
   "outputs": [
    {
     "data": {
      "text/plain": [
       "False"
      ]
     },
     "execution_count": 373,
     "metadata": {},
     "output_type": "execute_result"
    }
   ],
   "source": [
    "# false because of missing exclamation mark\n",
    "claim.endswith('planet')"
   ]
  },
  {
   "cell_type": "code",
   "execution_count": 374,
   "id": "64921895-54c9-4658-825b-89a2e3a2247a",
   "metadata": {},
   "outputs": [
    {
     "data": {
      "text/plain": [
       "['Pluto', 'is', 'a', 'planet!']"
      ]
     },
     "execution_count": 374,
     "metadata": {},
     "output_type": "execute_result"
    }
   ],
   "source": [
    "words = claim.split()\n",
    "words"
   ]
  },
  {
   "cell_type": "code",
   "execution_count": 375,
   "id": "c182f633-7031-447a-a8ed-6b783394687b",
   "metadata": {},
   "outputs": [],
   "source": [
    "datestr = '1956-01-31'\n",
    "year, month, day = datestr.split('-')"
   ]
  },
  {
   "cell_type": "code",
   "execution_count": 376,
   "id": "332f0b86-f90c-4a21-b395-c092cd445f11",
   "metadata": {},
   "outputs": [
    {
     "data": {
      "text/plain": [
       "'01/31/1956'"
      ]
     },
     "execution_count": 376,
     "metadata": {},
     "output_type": "execute_result"
    }
   ],
   "source": [
    "'/'.join([month, day, year])"
   ]
  },
  {
   "cell_type": "code",
   "execution_count": 377,
   "id": "2213f1b5-7f50-4c5c-b020-16a6b6da0819",
   "metadata": {},
   "outputs": [
    {
     "data": {
      "text/plain": [
       "'PLUTO 👏 IS 👏 A 👏 PLANET!'"
      ]
     },
     "execution_count": 377,
     "metadata": {},
     "output_type": "execute_result"
    }
   ],
   "source": [
    "# Yes, we can put unicode characters right in our string literals :)\n",
    "' 👏 '.join([word.upper() for word in words])"
   ]
  },
  {
   "cell_type": "code",
   "execution_count": 378,
   "id": "3cd32cc7-5546-440c-b966-cf2f61e6e0a1",
   "metadata": {},
   "outputs": [
    {
     "data": {
      "text/plain": [
       "'Pluto, we miss you.'"
      ]
     },
     "execution_count": 378,
     "metadata": {},
     "output_type": "execute_result"
    }
   ],
   "source": [
    "planet + ', we miss you.'"
   ]
  },
  {
   "cell_type": "code",
   "execution_count": 380,
   "id": "1b561e57-83d8-497b-8d73-d4a1b50a0bb5",
   "metadata": {},
   "outputs": [
    {
     "data": {
      "text/plain": [
       "\"Pluto, you'll always be the 9th planet to me.\""
      ]
     },
     "execution_count": 380,
     "metadata": {},
     "output_type": "execute_result"
    }
   ],
   "source": [
    "position = 9\n",
    "# Debug:  planet + \", you'll always be the \" + position + \"th planet to me.\"\n",
    "planet + \", you'll always be the \" + str(position) + \"th planet to me.\""
   ]
  },
  {
   "cell_type": "code",
   "execution_count": 383,
   "id": "86e8653e-7e82-4781-b274-c289ca035b97",
   "metadata": {},
   "outputs": [
    {
     "name": "stdout",
     "output_type": "stream",
     "text": [
      "Pluto\n",
      "9\n"
     ]
    },
    {
     "data": {
      "text/plain": [
       "\"Pluto, you'll always be the 9th planet to me.\""
      ]
     },
     "execution_count": 383,
     "metadata": {},
     "output_type": "execute_result"
    }
   ],
   "source": [
    "print(planet)\n",
    "print(position)\n",
    "\"{}, you'll always be the {}th planet to me.\".format(planet, position)"
   ]
  },
  {
   "cell_type": "code",
   "execution_count": 384,
   "id": "0fcc1daa-d1b1-4c19-9478-6149292905ff",
   "metadata": {},
   "outputs": [
    {
     "data": {
      "text/plain": [
       "\"Pluto weighs about 1.3e+22 kilograms (0.218% of Earth's mass). It is home to 52,910,390 Plutonians.\""
      ]
     },
     "execution_count": 384,
     "metadata": {},
     "output_type": "execute_result"
    }
   ],
   "source": [
    "pluto_mass = 1.303 * 10**22\n",
    "earth_mass = 5.9722 * 10**24\n",
    "population = 52910390\n",
    "#         2 decimal points   3 decimal points, format as percent     separate with commas\n",
    "\"{} weighs about {:.2} kilograms ({:.3%} of Earth's mass). It is home to {:,} Plutonians.\".format(\n",
    "    planet, pluto_mass, pluto_mass / earth_mass, population,\n",
    ")"
   ]
  },
  {
   "cell_type": "code",
   "execution_count": 385,
   "id": "19b86295-99a4-459a-a8fb-d075fbfa6f50",
   "metadata": {},
   "outputs": [
    {
     "name": "stdout",
     "output_type": "stream",
     "text": [
      "Pluto's a planet.\n",
      "No, it's a dwarf planet.\n",
      "planet!\n",
      "dwarf planet!\n"
     ]
    }
   ],
   "source": [
    "# Referring to format() arguments by index, starting from 0\n",
    "s = \"\"\"Pluto's a {0}.\n",
    "No, it's a {1}.\n",
    "{0}!\n",
    "{1}!\"\"\".format('planet', 'dwarf planet')\n",
    "print(s)"
   ]
  },
  {
   "cell_type": "markdown",
   "id": "a1bebb79-bb33-4682-9031-930b939b100b",
   "metadata": {},
   "source": [
    "### Dictionaries"
   ]
  },
  {
   "cell_type": "code",
   "execution_count": 386,
   "id": "d2e6b669-d2ce-4545-914b-241a7a6b3639",
   "metadata": {},
   "outputs": [
    {
     "data": {
      "text/plain": [
       "{'one': 1, 'two': 2, 'three': 3}"
      ]
     },
     "execution_count": 386,
     "metadata": {},
     "output_type": "execute_result"
    }
   ],
   "source": [
    "# Dictionaries are a built-in Python data structure for mapping keys to values.\n",
    "# In this case 'one', 'two', and 'three' are the keys, and 1, 2 and 3 are their corresponding values.\n",
    "\n",
    "numbers = {'one':1, 'two':2, 'three':3}\n",
    "numbers"
   ]
  },
  {
   "cell_type": "code",
   "execution_count": 390,
   "id": "ee750f0d-9fe7-43c0-bd09-54901757333c",
   "metadata": {},
   "outputs": [
    {
     "data": {
      "text/plain": [
       "1"
      ]
     },
     "execution_count": 390,
     "metadata": {},
     "output_type": "execute_result"
    }
   ],
   "source": [
    "# Values are accessed via square bracket syntax similar to indexing into lists and strings.\n",
    "\n",
    "numbers['one']"
   ]
  },
  {
   "cell_type": "code",
   "execution_count": 391,
   "id": "78598e5f-a1d1-4cf1-9068-a37247fc7aa7",
   "metadata": {},
   "outputs": [
    {
     "data": {
      "text/plain": [
       "{'one': 1, 'two': 2, 'three': 3, 'eleven': 11}"
      ]
     },
     "execution_count": 391,
     "metadata": {},
     "output_type": "execute_result"
    }
   ],
   "source": [
    "# add another key, value pair\n",
    "\n",
    "numbers['eleven'] = 11\n",
    "numbers"
   ]
  },
  {
   "cell_type": "code",
   "execution_count": 392,
   "id": "da83d560-0bfd-4021-a0ab-d376472b67c4",
   "metadata": {},
   "outputs": [
    {
     "data": {
      "text/plain": [
       "{'one': 'Pluto', 'two': 2, 'three': 3, 'eleven': 11}"
      ]
     },
     "execution_count": 392,
     "metadata": {},
     "output_type": "execute_result"
    }
   ],
   "source": [
    "numbers['one'] = 'Pluto'\n",
    "numbers"
   ]
  },
  {
   "cell_type": "code",
   "execution_count": 393,
   "id": "3ebb1510-5e9c-44d6-91cf-2e69f7c22c29",
   "metadata": {},
   "outputs": [
    {
     "data": {
      "text/plain": [
       "{'Mercury': 'M',\n",
       " 'Venus': 'V',\n",
       " 'Earth': 'E',\n",
       " 'Mars': 'M',\n",
       " 'Jupiter': 'J',\n",
       " 'Saturn': 'S',\n",
       " 'Uranus': 'U',\n",
       " 'Neptune': 'N'}"
      ]
     },
     "execution_count": 393,
     "metadata": {},
     "output_type": "execute_result"
    }
   ],
   "source": [
    "planets = ['Mercury', 'Venus', 'Earth', 'Mars', 'Jupiter', 'Saturn', 'Uranus', 'Neptune']\n",
    "planet_to_initial = {planet: planet[0] for planet in planets}\n",
    "planet_to_initial"
   ]
  },
  {
   "cell_type": "code",
   "execution_count": 405,
   "id": "804852ff-2bd9-4ea7-b763-455c42adeee1",
   "metadata": {},
   "outputs": [
    {
     "name": "stdout",
     "output_type": "stream",
     "text": [
      "True\n",
      "False\n"
     ]
    }
   ],
   "source": [
    "# The in operator tells us whether something is a key in the dictionary\n",
    "\n",
    "print('Saturn' in planet_to_initial)\n",
    "print('Betelgeuse' in planet_to_initial)"
   ]
  },
  {
   "cell_type": "code",
   "execution_count": 403,
   "id": "d0add5c4-914a-4cab-ae80-e2f92d2ef12a",
   "metadata": {},
   "outputs": [
    {
     "name": "stdout",
     "output_type": "stream",
     "text": [
      "one = Pluto\n",
      "two = 2\n",
      "three = 3\n",
      "eleven = 11\n"
     ]
    }
   ],
   "source": [
    "# for loop over a dictionary will loop over its keys\n",
    "\n",
    "for k in numbers:\n",
    "    print(\"{} = {}\".format(k, numbers[k]))"
   ]
  },
  {
   "cell_type": "code",
   "execution_count": 401,
   "id": "75ecbfb7-7272-4367-b4d0-b0ebe998216e",
   "metadata": {},
   "outputs": [
    {
     "data": {
      "text/plain": [
       "'E J M M N S U V'"
      ]
     },
     "execution_count": 401,
     "metadata": {},
     "output_type": "execute_result"
    }
   ],
   "source": [
    "# We can access a collection of all the keys or all the values with dict.keys() and dict.values(), respectively.\n",
    "\n",
    "# Get all the initials, sort them alphabetically, and put them in a space-separated string.\n",
    "' '.join(sorted(planet_to_initial.values()))"
   ]
  },
  {
   "cell_type": "code",
   "execution_count": 406,
   "id": "4b734754-39c9-4503-8591-16f46f390757",
   "metadata": {},
   "outputs": [
    {
     "name": "stdout",
     "output_type": "stream",
     "text": [
      "   Mercury begins with \"M\"\n",
      "     Venus begins with \"V\"\n",
      "     Earth begins with \"E\"\n",
      "      Mars begins with \"M\"\n",
      "   Jupiter begins with \"J\"\n",
      "    Saturn begins with \"S\"\n",
      "    Uranus begins with \"U\"\n",
      "   Neptune begins with \"N\"\n"
     ]
    }
   ],
   "source": [
    "# The very useful dict.items() method lets us iterate over the keys and values of a dictionary simultaneously. \n",
    "# (In Python jargon, an item refers to a key, value pair)\n",
    "\n",
    "for planet, initial in planet_to_initial.items():\n",
    "    print(\"{} begins with \\\"{}\\\"\".format(planet.rjust(10), initial))"
   ]
  },
  {
   "cell_type": "markdown",
   "id": "c84ebea9-abf0-473f-aa85-fa175d8fe5fd",
   "metadata": {},
   "source": [
    "## Exercise"
   ]
  },
  {
   "cell_type": "code",
   "execution_count": 408,
   "id": "984c6f45-5f04-4a24-804f-7bb22b0d0441",
   "metadata": {},
   "outputs": [
    {
     "name": "stdout",
     "output_type": "stream",
     "text": [
      "a:  0\n",
      "b:  7\n",
      "c:  7\n",
      "d:  3\n",
      "e:  1\n"
     ]
    }
   ],
   "source": [
    "# Exercise 1\n",
    "a = \"\"\n",
    "length = len(a)\n",
    "print(\"a: \",length)\n",
    "\n",
    "b = \"it's ok\"\n",
    "length = len(b)\n",
    "print(\"b: \",length)\n",
    "\n",
    "c = 'it\\'s ok'\n",
    "length = len(c)\n",
    "print(\"c: \",length)\n",
    "\n",
    "d = \"\"\"hey\"\"\"\n",
    "length = len(d)\n",
    "print(\"d: \",length)\n",
    "\n",
    "e = '\\n'\n",
    "length = len(e)\n",
    "print(\"e: \",length)"
   ]
  },
  {
   "cell_type": "code",
   "execution_count": 409,
   "id": "ef23d075-9bb5-492d-9d62-c845d8dddd1c",
   "metadata": {},
   "outputs": [],
   "source": [
    "# Exercise 2\n",
    "def is_valid_zip(zip_code):\n",
    "    \"\"\"Returns whether the input string is a valid (5 digit) zip code\n",
    "    \"\"\"\n",
    "    pass\n",
    "\n",
    "def is_valid_zip(zip_code):\n",
    "    return len(zip_code) == 5 and zip_code.isdigit()"
   ]
  },
  {
   "cell_type": "code",
   "execution_count": 410,
   "id": "f82239db-02c4-46c4-98d8-2582d936bdfc",
   "metadata": {},
   "outputs": [],
   "source": [
    "# Exercise 3\n",
    "def word_search(doc_list, keyword):\n",
    "    \"\"\"\n",
    "    Takes a list of documents (each document is a string) and a keyword. \n",
    "    Returns list of the index values into the original list for all documents \n",
    "    containing the keyword.\n",
    "\n",
    "    Example:\n",
    "    doc_list = [\"The Learn Python Challenge Casino.\", \"They bought a car\", \"Casinoville\"]\n",
    "    >>> word_search(doc_list, 'casino')\n",
    "    >>> [0]\n",
    "    \"\"\"\n",
    "    pass\n",
    "    \n",
    "def word_search(doc_list, keyword):\n",
    "    # list to hold the indices of matching documents\n",
    "    indices = [] \n",
    "    # Iterate through the indices (i) and elements (doc) of documents\n",
    "    for i, doc in enumerate(doc_list):\n",
    "        # Split the string doc into a list of words (according to whitespace)\n",
    "        tokens = doc.split()\n",
    "        # Make a transformed list where we 'normalize' each word to facilitate matching.\n",
    "        # Periods and commas are removed from the end of each word, and it's set to all lowercase.\n",
    "        normalized = [token.rstrip('.,').lower() for token in tokens]\n",
    "        # Is there a match? If so, update the list of matching indices.\n",
    "        if keyword.lower() in normalized:\n",
    "            indices.append(i)\n",
    "    return indices"
   ]
  },
  {
   "cell_type": "code",
   "execution_count": 411,
   "id": "8475fd50-c6a4-4529-aff7-48010b9779c5",
   "metadata": {},
   "outputs": [],
   "source": [
    "# Exercise 4\n",
    "\n",
    "def multi_word_search(doc_list, keywords):\n",
    "    \"\"\"\n",
    "    Takes list of documents (each document is a string) and a list of keywords.  \n",
    "    Returns a dictionary where each key is a keyword, and the value is a list of indices\n",
    "    (from doc_list) of the documents containing that keyword\n",
    "\n",
    "    >>> doc_list = [\"The Learn Python Challenge Casino.\", \"They bought a car and a casino\", \"Casinoville\"]\n",
    "    >>> keywords = ['casino', 'they']\n",
    "    >>> multi_word_search(doc_list, keywords)\n",
    "    {'casino': [0, 1], 'they': [1]}\n",
    "    \"\"\"\n",
    "    pass\n",
    "\n",
    "def multi_word_search(documents, keywords):\n",
    "    keyword_to_indices = {}\n",
    "    for keyword in keywords:\n",
    "        keyword_to_indices[keyword] = word_search(documents, keyword)\n",
    "    return keyword_to_indices"
   ]
  },
  {
   "cell_type": "markdown",
   "id": "0f30e201-4eec-4eea-a95e-ee33e5793aa7",
   "metadata": {
    "jp-MarkdownHeadingCollapsed": true
   },
   "source": [
    "# Working with external libraries - Imports"
   ]
  },
  {
   "cell_type": "markdown",
   "id": "a9182edf-78ac-4f4e-83d2-c1e5a04fe1fa",
   "metadata": {},
   "source": [
    "* \"standard library\" - Built-in Python Libraries"
   ]
  },
  {
   "cell_type": "code",
   "execution_count": 320,
   "id": "ecd2aa8f-67ce-44d4-b661-4ed78dcbf5e8",
   "metadata": {},
   "outputs": [
    {
     "name": "stdout",
     "output_type": "stream",
     "text": [
      "It's math! It has type <class 'module'>\n",
      "It's math! It has type <class 'module'>\n"
     ]
    }
   ],
   "source": [
    "import math\n",
    "\n",
    "print(\"It's math! It has type {}\".format(type(math)))\n",
    "print(f\"It's math! It has type {type(math)}\")\n"
   ]
  },
  {
   "cell_type": "code",
   "execution_count": 321,
   "id": "a2a1266b-9f56-4fe8-b76c-5ce6782d3eaa",
   "metadata": {},
   "outputs": [
    {
     "name": "stdout",
     "output_type": "stream",
     "text": [
      "['__doc__', '__loader__', '__name__', '__package__', '__spec__', 'acos', 'acosh', 'asin', 'asinh', 'atan', 'atan2', 'atanh', 'cbrt', 'ceil', 'comb', 'copysign', 'cos', 'cosh', 'degrees', 'dist', 'e', 'erf', 'erfc', 'exp', 'exp2', 'expm1', 'fabs', 'factorial', 'floor', 'fma', 'fmod', 'frexp', 'fsum', 'gamma', 'gcd', 'hypot', 'inf', 'isclose', 'isfinite', 'isinf', 'isnan', 'isqrt', 'lcm', 'ldexp', 'lgamma', 'log', 'log10', 'log1p', 'log2', 'modf', 'nan', 'nextafter', 'perm', 'pi', 'pow', 'prod', 'radians', 'remainder', 'sin', 'sinh', 'sqrt', 'sumprod', 'tan', 'tanh', 'tau', 'trunc', 'ulp']\n"
     ]
    }
   ],
   "source": [
    "# math is a module\n",
    "# A module is just a collection of variables (a namespace, if you like) defined by someone else. \n",
    "# We can see all the names in math using the built-in function dir().\n",
    "\n",
    "print(dir(math))"
   ]
  },
  {
   "cell_type": "code",
   "execution_count": 324,
   "id": "114d8581-ea27-40b5-a33d-d49db4b584bd",
   "metadata": {},
   "outputs": [
    {
     "name": "stdout",
     "output_type": "stream",
     "text": [
      "pi to 4 significant digits = 3.142\n"
     ]
    }
   ],
   "source": [
    "# Access these variables using dot syntax e.g. math.pi\n",
    "print(\"pi to 4 significant digits = {:.4}\".format(math.pi))"
   ]
  },
  {
   "cell_type": "code",
   "execution_count": 325,
   "id": "d7adc075-510b-48aa-b890-41d02789fe9b",
   "metadata": {},
   "outputs": [
    {
     "data": {
      "text/plain": [
       "5.0"
      ]
     },
     "execution_count": 325,
     "metadata": {},
     "output_type": "execute_result"
    }
   ],
   "source": [
    "math.log(32, 2)"
   ]
  },
  {
   "cell_type": "code",
   "execution_count": 328,
   "id": "d73a4bcb-80f6-45a1-8cd3-f5c523b3aef6",
   "metadata": {},
   "outputs": [
    {
     "name": "stdout",
     "output_type": "stream",
     "text": [
      "Help on built-in function log in module math:\n",
      "\n",
      "log(...)\n",
      "    log(x, [base=math.e])\n",
      "    Return the logarithm of x to the given base.\n",
      "\n",
      "    If the base is not specified, returns the natural logarithm (base e) of x.\n",
      "\n"
     ]
    }
   ],
   "source": [
    "help(math.log)\n",
    "# help(math)"
   ]
  },
  {
   "cell_type": "code",
   "execution_count": 330,
   "id": "9471d714-33e9-43e1-a360-f51eabf69e05",
   "metadata": {},
   "outputs": [
    {
     "data": {
      "text/plain": [
       "3.141592653589793"
      ]
     },
     "execution_count": 330,
     "metadata": {},
     "output_type": "execute_result"
    }
   ],
   "source": [
    "# Aliasing\n",
    "\n",
    "import math as mt\n",
    "\n",
    "mt.pi"
   ]
  },
  {
   "cell_type": "code",
   "execution_count": 334,
   "id": "8cb77577-a235-448b-8148-570a3ca53878",
   "metadata": {},
   "outputs": [
    {
     "name": "stdout",
     "output_type": "stream",
     "text": [
      "3.141592653589793 5.0\n"
     ]
    }
   ],
   "source": [
    "# Refer to all the variables (like pi) instead of math.pi or mt.pi\n",
    "\n",
    "from math import *\n",
    "print(pi, log(32, 2))\n",
    "\n",
    "# import * makes all the module's variables directly accessible to you (without any dotted prefix)."
   ]
  },
  {
   "cell_type": "code",
   "execution_count": 343,
   "id": "724235b3-154c-4839-a494-22ee19f87464",
   "metadata": {},
   "outputs": [],
   "source": [
    "# \"star imports\" can cause bug - e.g. \n",
    "# from math import *\n",
    "# from numpy import *\n",
    "# print(pi, log(32, 2))\n",
    "\n",
    "# Both numpy and math have log function"
   ]
  },
  {
   "cell_type": "code",
   "execution_count": 344,
   "id": "ae4cc61b-1c6d-4ce0-bc2e-2e900c2ccc08",
   "metadata": {},
   "outputs": [],
   "source": [
    "from math import log, pi\n",
    "from numpy import asarray"
   ]
  },
  {
   "cell_type": "code",
   "execution_count": 346,
   "id": "ade55fac-931a-40bf-b233-ea5ed68da288",
   "metadata": {},
   "outputs": [
    {
     "name": "stdout",
     "output_type": "stream",
     "text": [
      "numpy.random is a <class 'module'>\n",
      "it contains names such as... ['uniform', 'vonmises', 'wald', 'weibull', 'zipf']\n"
     ]
    }
   ],
   "source": [
    "import numpy\n",
    "print(\"numpy.random is a\", type(numpy.random))\n",
    "print(\"it contains names such as...\",\n",
    "      dir(numpy.random)[-5:]\n",
    "     )"
   ]
  },
  {
   "cell_type": "code",
   "execution_count": 347,
   "id": "5aff2f2f-f1a7-4742-ad28-b6073fc415b7",
   "metadata": {},
   "outputs": [
    {
     "data": {
      "text/plain": [
       "array([5, 4, 3, 1, 3, 3, 3, 4, 5, 1], dtype=int32)"
      ]
     },
     "execution_count": 347,
     "metadata": {},
     "output_type": "execute_result"
    }
   ],
   "source": [
    "# numpy = = module \n",
    "# random = \"submodule\" \n",
    "# Calling function in random in numpy requires two dots \n",
    "# module.submodule.function() >> numpy.random.randint() \n",
    "\n",
    "# Roll 10 dice\n",
    "rolls = numpy.random.randint(low=1, high=6, size=10)\n",
    "rolls"
   ]
  },
  {
   "cell_type": "code",
   "execution_count": 26,
   "id": "eaf8c682-8a4f-4628-8dd5-b5929a9e7f0a",
   "metadata": {},
   "outputs": [
    {
     "ename": "NameError",
     "evalue": "name 'rolls' is not defined",
     "output_type": "error",
     "traceback": [
      "\u001b[31m---------------------------------------------------------------------------\u001b[39m",
      "\u001b[31mNameError\u001b[39m                                 Traceback (most recent call last)",
      "\u001b[36mCell\u001b[39m\u001b[36m \u001b[39m\u001b[32mIn[26]\u001b[39m\u001b[32m, line 1\u001b[39m\n\u001b[32m----> \u001b[39m\u001b[32m1\u001b[39m \u001b[38;5;28mtype\u001b[39m(\u001b[43mrolls\u001b[49m)\n\u001b[32m      2\u001b[39m \u001b[38;5;28mprint\u001b[39m(\u001b[38;5;28mdir\u001b[39m(rolls)[-\u001b[32m5\u001b[39m:])\n",
      "\u001b[31mNameError\u001b[39m: name 'rolls' is not defined"
     ]
    }
   ],
   "source": [
    "type(rolls)\n",
    "print(dir(rolls)[-5:])"
   ]
  },
  {
   "cell_type": "code",
   "execution_count": 349,
   "id": "e161e3ad-00b9-4752-845a-f8c62e1b0fec",
   "metadata": {},
   "outputs": [
    {
     "data": {
      "text/plain": [
       "np.float64(3.2)"
      ]
     },
     "execution_count": 349,
     "metadata": {},
     "output_type": "execute_result"
    }
   ],
   "source": [
    "# If I want the average roll, the \"mean\" method looks promising...\n",
    "rolls.mean()"
   ]
  },
  {
   "cell_type": "code",
   "execution_count": 350,
   "id": "a45d40e9-187d-4003-8080-30bb56d6d9db",
   "metadata": {},
   "outputs": [
    {
     "data": {
      "text/plain": [
       "[5, 4, 3, 1, 3, 3, 3, 4, 5, 1]"
      ]
     },
     "execution_count": 350,
     "metadata": {},
     "output_type": "execute_result"
    }
   ],
   "source": [
    "# Or maybe I just want to turn the array into a list, in which case I can use \"tolist\"\n",
    "rolls.tolist()"
   ]
  },
  {
   "cell_type": "code",
   "execution_count": 351,
   "id": "5f8986d2-4174-4a9e-a347-01b9e86cf2af",
   "metadata": {},
   "outputs": [],
   "source": [
    "# [3, 4, 1, 2, 2, 1] + 10\n",
    "\n",
    "# >> TypeError: can only concatenate list (not \"int\") to list"
   ]
  },
  {
   "cell_type": "code",
   "execution_count": 352,
   "id": "47ae674e-9252-4113-9cd2-93cecda77679",
   "metadata": {},
   "outputs": [
    {
     "name": "stdout",
     "output_type": "stream",
     "text": [
      "[5 4 3 1 3 3 3 4 5 1]\n",
      "[15 14 13 11 13 13 13 14 15 11]\n"
     ]
    }
   ],
   "source": [
    "print(rolls)\n",
    "print(rolls + 10)"
   ]
  },
  {
   "cell_type": "code",
   "execution_count": 353,
   "id": "7063f110-3ff1-40a6-8219-4d5f9a06878b",
   "metadata": {},
   "outputs": [
    {
     "data": {
      "text/plain": [
       "array([False, False,  True,  True,  True,  True,  True, False, False,\n",
       "        True])"
      ]
     },
     "execution_count": 353,
     "metadata": {},
     "output_type": "execute_result"
    }
   ],
   "source": [
    "# At which indices are the dice less than or equal to 3?\n",
    "rolls <= 3"
   ]
  },
  {
   "cell_type": "code",
   "execution_count": 354,
   "id": "613a52af-3b32-4c09-b259-002c37499689",
   "metadata": {},
   "outputs": [
    {
     "name": "stdout",
     "output_type": "stream",
     "text": [
      "xlist = [[1, 2, 3], [2, 4, 6]]\n",
      "x =\n",
      "[[1 2 3]\n",
      " [2 4 6]]\n"
     ]
    }
   ],
   "source": [
    "xlist = [[1,2,3],[2,4,6],]\n",
    "# Create a 2-dimensional array\n",
    "x = numpy.asarray(xlist)\n",
    "print(\"xlist = {}\\nx =\\n{}\".format(xlist, x))"
   ]
  },
  {
   "cell_type": "code",
   "execution_count": 355,
   "id": "a689174b-3bb6-441d-93d1-ab1212ad7ae1",
   "metadata": {},
   "outputs": [
    {
     "data": {
      "text/plain": [
       "np.int64(6)"
      ]
     },
     "execution_count": 355,
     "metadata": {},
     "output_type": "execute_result"
    }
   ],
   "source": [
    "# Get the last element of the second row of our numpy array\n",
    "x[1,-1]"
   ]
  },
  {
   "cell_type": "code",
   "execution_count": 359,
   "id": "ea8a1cba-46c1-4582-a46b-bd3783084efb",
   "metadata": {},
   "outputs": [],
   "source": [
    "# Get the last element of the second sublist of our nested list?\n",
    "# xlist[1,-1]"
   ]
  },
  {
   "cell_type": "markdown",
   "id": "a34d3840-06c1-47e2-bf2f-54b84fb3fbd0",
   "metadata": {
    "jp-MarkdownHeadingCollapsed": true
   },
   "source": [
    "## Tutorial - Imports\n",
    "https://www.kaggle.com/code/pirapatthanasupakorn/exercise-working-with-external-libraries/edit"
   ]
  },
  {
   "cell_type": "raw",
   "id": "c82124c2-1283-4009-8cab-c8be22cbabc6",
   "metadata": {},
   "source": [
    "# Exercise 1\n",
    "'''def prettify_graph(graph):\n",
    "    \"\"\"Modify the given graph according to Jimmy's requests: add a title, make the y-axis\n",
    "    start at 0, label the y-axis. (And, if you're feeling ambitious, format the tick marks\n",
    "    as dollar amounts using the \"$\" symbol.)\n",
    "    \"\"\"\n",
    "    graph.set_title(\"Results of 500 slot machine pulls\")\n",
    "    # Complete steps 2 and 3 here\n",
    "'''\n",
    "\n",
    "def prettify_graph(graph):\n",
    "    graph.set_title(\"Results of 500 slot machine pulls\")\n",
    "    # Make the y-axis begin at 0\n",
    "    graph.set_ylim(bottom=0)\n",
    "    # Label the y-axis\n",
    "    graph.set_ylabel(\"Balance\")\n",
    "    # Bonus: format the numbers on the y-axis as dollar amounts\n",
    "    # An array of the values displayed on the y-axis (150, 175, 200, etc.)\n",
    "    ticks = graph.get_yticks()\n",
    "    # Format those values into strings beginning with dollar sign\n",
    "    new_labels = ['${}'.format(int(amt)) for amt in ticks]\n",
    "    # Set the new labels\n",
    "    graph.set_yticklabels(new_labels)\n",
    "\n",
    "graph = jimmy_slots.get_graph()\n",
    "prettify_graph(graph)\n",
    "graph"
   ]
  },
  {
   "cell_type": "raw",
   "id": "78b2f0b7-2f6e-413e-8d28-1392a448514a",
   "metadata": {},
   "source": [
    "# Exercise 2\n",
    "\n",
    "def best_items(racers):\n",
    "    \"\"\"Given a list of racer dictionaries, return a dictionary mapping items to the number\n",
    "    of times those items were picked up by racers who finished in first place.\n",
    "    \"\"\"\n",
    "    winner_item_counts = {}\n",
    "    for i in range(len(racers)):\n",
    "        # The i'th racer dictionary\n",
    "        racer = racers[i]\n",
    "        # We're only interested in racers who finished in first\n",
    "        if racer['finish'] == 1:\n",
    "            for i in racer['items']:\n",
    "                # Add one to the count for this item (adding it to the dict if necessary)\n",
    "                if i not in winner_item_counts:\n",
    "                    winner_item_counts[i] = 0\n",
    "                winner_item_counts[i] += 1\n",
    "\n",
    "        # Data quality issues :/ Print a warning about racers with no name set. We'll take care of it later.\n",
    "        if racer['name'] is None:\n",
    "            print(\"WARNING: Encountered racer with unknown name on iteration {}/{} (racer = {})\".format(\n",
    "                i+1, len(racers), racer['name'])\n",
    "                 )\n",
    "    return winner_item_counts\n",
    "\n",
    "    sample = [\n",
    "    {'name': 'Peach', 'items': ['green shell', 'banana', 'green shell',], 'finish': 3},\n",
    "    {'name': 'Bowser', 'items': ['green shell',], 'finish': 1},\n",
    "    {'name': None, 'items': ['mushroom',], 'finish': 2},\n",
    "    {'name': 'Toad', 'items': ['green shell', 'mushroom'], 'finish': 1},\n",
    "]\n",
    "best_items(sample)\n",
    "\n",
    "# Import luigi's full dataset of race data\n",
    "from learntools.python.luigi_analysis import full_dataset\n",
    "\n",
    "# Fix me!\n",
    "def best_items(racers):\n",
    "    winner_item_counts = {}\n",
    "    for i in range(len(racers)):\n",
    "        # The i'th racer dictionary\n",
    "        racer = racers[i]\n",
    "        # We're only interested in racers who finished in first\n",
    "        if racer['finish'] == 1:\n",
    "            for i in racer['items']:\n",
    "                # Add one to the count for this item (adding it to the dict if necessary)\n",
    "                if i not in winner_item_counts:\n",
    "                    winner_item_counts[i] = 0\n",
    "                winner_item_counts[i] += 1\n",
    "\n",
    "        # Data quality issues :/ Print a warning about racers with no name set. We'll take care of it later.\n",
    "        if racer['name'] is None:\n",
    "            print(\"WARNING: Encountered racer with unknown name on iteration {}/{} (racer = {})\".format(\n",
    "                i+1, len(racers), racer['name'])\n",
    "                 )\n",
    "    return winner_item_counts\n",
    "\n",
    "# Try analyzing the imported full dataset\n",
    "best_items(full_dataset)\n",
    "\n",
    "\n",
    "'''\n",
    "Solution: Luigi used the variable name i to represent each item in racer['items']. However, he also used i as the loop variable for the outer loop (for i in range(len(racers))). These i's are clobbering each other. This becomes a problem only if we encounter a racer with a finish of 1 and a name of None. If that happens, when we try to print the \"WARNING\" message, i refers to a string like \"green shell\", which python can't add to an integer, hence a TypeError.\n",
    "\n",
    "This is similar to the issue we saw when we imported * from math and numpy. They both contained variables called log, and the one we got when we tried to call it was the wrong one.\n",
    "\n",
    "We can fix this by using different loop variables for the inner and outer loops. i wasn't a very good variable name for the inner loop anyways. for item in racer['items'] fixes the bug and is easier to read.\n",
    "\n",
    "Variable shadowing bugs like this don't come up super often, but when they do they can take an infuriating amount of time to diagnose!\n",
    "'''"
   ]
  },
  {
   "cell_type": "code",
   "execution_count": 361,
   "id": "f0c21879-ff7f-4e0c-8d61-b66b8b39807b",
   "metadata": {},
   "outputs": [],
   "source": [
    "# Exercise 3: \n",
    "\n",
    "def blackjack_hand_greater_than(hand_1, hand_2):\n",
    "    \"\"\"\n",
    "    Return True if hand_1 beats hand_2, and False otherwise.\n",
    "    \n",
    "    In order for hand_1 to beat hand_2 the following must be true:\n",
    "    - The total of hand_1 must not exceed 21\n",
    "    - The total of hand_1 must exceed the total of hand_2 OR hand_2's total must exceed 21\n",
    "    \n",
    "    Hands are represented as a list of cards. Each card is represented by a string.\n",
    "    \n",
    "    When adding up a hand's total, cards with numbers count for that many points. Face\n",
    "    cards ('J', 'Q', and 'K') are worth 10 points. 'A' can count for 1 or 11.\n",
    "    \n",
    "    When determining a hand's total, you should try to count aces in the way that \n",
    "    maximizes the hand's total without going over 21. e.g. the total of ['A', 'A', '9'] is 21,\n",
    "    the total of ['A', 'A', '9', '3'] is 14.\n",
    "    \n",
    "    Examples:\n",
    "    >>> blackjack_hand_greater_than(['K'], ['3', '4'])\n",
    "    True\n",
    "    >>> blackjack_hand_greater_than(['K'], ['10'])\n",
    "    False\n",
    "    >>> blackjack_hand_greater_than(['K', 'K', '2'], ['3'])\n",
    "    False\n",
    "    \"\"\"\n",
    "    pass"
   ]
  },
  {
   "cell_type": "code",
   "execution_count": 360,
   "id": "f93318a7-a221-494a-803f-576570cdfa2d",
   "metadata": {},
   "outputs": [],
   "source": [
    "# Solution 3\n",
    "\n",
    "def hand_total(hand):\n",
    "    \"\"\"Helper function to calculate the total points of a blackjack hand.\n",
    "    \"\"\"\n",
    "    total = 0\n",
    "    # Count the number of aces and deal with how to apply them at the end.\n",
    "    aces = 0\n",
    "    for card in hand:\n",
    "        if card in ['J', 'Q', 'K']:\n",
    "            total += 10\n",
    "        elif card == 'A':\n",
    "            aces += 1\n",
    "        else:\n",
    "            # Convert number cards (e.g. '7') to ints\n",
    "            total += int(card)\n",
    "    # At this point, total is the sum of this hand's cards *not counting aces*.\n",
    "\n",
    "    # Add aces, counting them as 1 for now. This is the smallest total we can make from this hand\n",
    "    total += aces\n",
    "    # \"Upgrade\" aces from 1 to 11 as long as it helps us get closer to 21\n",
    "    # without busting\n",
    "    while total + 10 <= 21 and aces > 0:\n",
    "        # Upgrade an ace from 1 to 11\n",
    "        total += 10\n",
    "        aces -= 1\n",
    "    return total\n",
    "\n",
    "def blackjack_hand_greater_than(hand_1, hand_2):\n",
    "    total_1 = hand_total(hand_1)\n",
    "    total_2 = hand_total(hand_2)\n",
    "    return total_1 <= 21 and (total_1 > total_2 or total_2 > 21)"
   ]
  },
  {
   "cell_type": "code",
   "execution_count": null,
   "id": "14a68f0f-30cc-4613-8274-14f76a2483a4",
   "metadata": {},
   "outputs": [],
   "source": []
  }
 ],
 "metadata": {
  "kernelspec": {
   "display_name": "Python 3 (ipykernel)",
   "language": "python",
   "name": "python3"
  },
  "language_info": {
   "codemirror_mode": {
    "name": "ipython",
    "version": 3
   },
   "file_extension": ".py",
   "mimetype": "text/x-python",
   "name": "python",
   "nbconvert_exporter": "python",
   "pygments_lexer": "ipython3",
   "version": "3.13.5"
  }
 },
 "nbformat": 4,
 "nbformat_minor": 5
}
